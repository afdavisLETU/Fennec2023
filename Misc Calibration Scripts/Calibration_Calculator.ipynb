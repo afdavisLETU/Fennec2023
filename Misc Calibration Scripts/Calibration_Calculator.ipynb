{
 "cells": [
  {
   "cell_type": "markdown",
   "metadata": {},
   "source": [
    "### Import Required Libraries"
   ]
  },
  {
   "cell_type": "code",
   "execution_count": 5,
   "metadata": {},
   "outputs": [],
   "source": [
    "import numpy as np\n",
    "from math import pi\n",
    "from matplotlib import pyplot as plt\n",
    "from matplotlib import cm"
   ]
  },
  {
   "cell_type": "markdown",
   "metadata": {},
   "source": [
    "#### Solver Function"
   ]
  },
  {
   "cell_type": "code",
   "execution_count": 6,
   "metadata": {},
   "outputs": [],
   "source": [
    "def getCylinders(inertia,weight,rho,d):\n",
    "    h = weight/(rho*pi*(((d_out/2)**2)-((d_in/2)**2)))\n",
    "    r = np.sqrt(((inertia/2)-0.5*weight*(((d_out/2)**2)+((d_in/2)**2)))/weight)\n",
    "    return [h,r]"
   ]
  },
  {
   "cell_type": "markdown",
   "metadata": {},
   "source": [
    "##### Defining Parameters"
   ]
  },
  {
   "cell_type": "code",
   "execution_count": 7,
   "metadata": {},
   "outputs": [],
   "source": [
    "min_weight = .5*2.8911 #kg\n",
    "max_weight = 1.5*4.6968\n",
    "min_I = 0.04 # kg*m2\n",
    "max_I = 0.34\n",
    "n_inertias = 5\n",
    "n_weights = 5\n",
    "rho = 7850 # density of steel\n",
    "d_out = 0.0702\n",
    "d_in = 0.053"
   ]
  },
  {
   "cell_type": "markdown",
   "metadata": {},
   "source": [
    "#### Solving for Heights, Radii"
   ]
  },
  {
   "cell_type": "code",
   "execution_count": 8,
   "metadata": {},
   "outputs": [
    {
     "ename": "NameError",
     "evalue": "name 'd' is not defined",
     "output_type": "error",
     "traceback": [
      "\u001b[0;31m---------------------------------------------------------------------------\u001b[0m",
      "\u001b[0;31mNameError\u001b[0m                                 Traceback (most recent call last)",
      "\u001b[1;32m/home/coder/workspace/Finnamore/Calibration_Calculator.ipynb Cell 8\u001b[0m line \u001b[0;36m2\n\u001b[1;32m      <a href='vscode-notebook-cell://fennec1.jaedynchilton.com/home/coder/workspace/Finnamore/Calibration_Calculator.ipynb#X10sdnNjb2RlLXJlbW90ZQ%3D%3D?line=0'>1</a>\u001b[0m weights, inertias \u001b[39m=\u001b[39m np\u001b[39m.\u001b[39mmeshgrid(np\u001b[39m.\u001b[39mlinspace(min_weight, max_weight, n_weights),np\u001b[39m.\u001b[39mlinspace(min_I,max_I,n_inertias))\n\u001b[0;32m----> <a href='vscode-notebook-cell://fennec1.jaedynchilton.com/home/coder/workspace/Finnamore/Calibration_Calculator.ipynb#X10sdnNjb2RlLXJlbW90ZQ%3D%3D?line=1'>2</a>\u001b[0m heights \u001b[39m=\u001b[39m getCylinders(inertias,weights,rho,d)[\u001b[39m0\u001b[39m]\n\u001b[1;32m      <a href='vscode-notebook-cell://fennec1.jaedynchilton.com/home/coder/workspace/Finnamore/Calibration_Calculator.ipynb#X10sdnNjb2RlLXJlbW90ZQ%3D%3D?line=2'>3</a>\u001b[0m radiuses \u001b[39m=\u001b[39m getCylinders(inertias,weights,rho,d)[\u001b[39m1\u001b[39m]\n",
      "\u001b[0;31mNameError\u001b[0m: name 'd' is not defined"
     ]
    }
   ],
   "source": [
    "weights, inertias = np.meshgrid(np.linspace(min_weight, max_weight, n_weights),np.linspace(min_I,max_I,n_inertias))\n",
    "heights = getCylinders(inertias,weights,rho,d)[0]\n",
    "radiuses = getCylinders(inertias,weights,rho,d)[1]"
   ]
  },
  {
   "cell_type": "markdown",
   "metadata": {},
   "source": [
    "#### Making Report"
   ]
  },
  {
   "cell_type": "code",
   "execution_count": null,
   "metadata": {},
   "outputs": [
    {
     "name": "stdout",
     "output_type": "stream",
     "text": [
      "Calibration Masses Report:\n",
      "Inertia Range: 0.04 < I [kg*m2] < 0.34\n",
      "Mass Range: 1.44555 < m [kg] < 7.0451999999999995\n",
      "Number of Inertia Increments: 2\n",
      "Number of Mass Increments: 2\n",
      "Total Calibration Points: 4\n",
      "\n",
      "\n",
      "Material Used: Density = 7850 kg/m3\n",
      "Cylindrical Stock Used: Outer Diameter = 0.0702 m, Inner Diameter = 0.053 m\n",
      "\n",
      "\n",
      "Total Length of Stock Used (10% Extra): 1.43 m\n",
      "\n",
      "\n",
      "Inertia  Mass  Height  Distance from Origin \n",
      "[kg*m2]  [kg]     [m]                   [m]\n",
      " 0.0400  1.45  0.1106                 0.113\n",
      "\n",
      "\n",
      " 0.0400  7.05  0.5393                 0.043\n",
      "\n",
      "\n",
      " 0.3400  1.45  0.1106                 0.342\n",
      "\n",
      "\n",
      " 0.3400  7.05  0.5393                 0.152\n",
      "\n",
      "\n"
     ]
    }
   ],
   "source": [
    "print('Calibration Masses Report:')\n",
    "print('Inertia Range: {:02}'.format(min_I) + ' < I [kg*m2] < {:02}'.format(max_I))\n",
    "print('Mass Range: {:02}'.format(min_weight) + ' < m [kg] < {:02}'.format(max_weight))\n",
    "print('Number of Inertia Increments: {}'.format(n_inertias))\n",
    "print('Number of Mass Increments: {}'.format(n_weights))\n",
    "print('Total Calibration Points: {}'.format(n_inertias*n_weights))\n",
    "print('\\n')\n",
    "print('Material Used: Density = {}'.format(rho) + ' kg/m3')\n",
    "print('Cylindrical Stock Used: Outer Diameter = {} m, Inner Diameter = {} m'.format(d_out,d_in))\n",
    "print('\\n')\n",
    "print('Total Length of Stock Used (10% Extra): {:.2f}'.format(1.1*np.sum(heights))+' m')\n",
    "print('\\n')\n",
    "print('{:8} {:5} {:5} {:5}'.format('Inertia ','Mass ','Height ','Distance from Origin '))\n",
    "print('{:8} {:5} {:5} {:5}'.format('[kg*m2]','[kg]','   [m]','                  [m]'))\n",
    "for i in range(n_inertias):\n",
    "    for j in range(n_weights):\n",
    "        print('{:7.4f}{:6.2f}{:8.4f}{:22.3f}'.format(inertias[i][j],weights[i][j],heights[i][j],radiuses[i][j]))\n",
    "        print('\\n')"
   ]
  }
 ],
 "metadata": {
  "kernelspec": {
   "display_name": "Python 3",
   "language": "python",
   "name": "python3"
  },
  "language_info": {
   "codemirror_mode": {
    "name": "ipython",
    "version": 3
   },
   "file_extension": ".py",
   "mimetype": "text/x-python",
   "name": "python",
   "nbconvert_exporter": "python",
   "pygments_lexer": "ipython3",
   "version": "3.11.0rc1"
  }
 },
 "nbformat": 4,
 "nbformat_minor": 2
}
