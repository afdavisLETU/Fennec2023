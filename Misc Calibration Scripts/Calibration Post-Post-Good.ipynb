{
 "cells": [
  {
   "cell_type": "markdown",
   "metadata": {},
   "source": [
    "### Import Required Libraries"
   ]
  },
  {
   "cell_type": "code",
   "execution_count": 43,
   "metadata": {},
   "outputs": [],
   "source": [
    "import numpy as np\n",
    "from scipy.integrate import odeint\n",
    "from scipy.signal import butter, filtfilt, find_peaks\n",
    "from scipy.stats import gaussian_kde,ecdf\n",
    "import matplotlib.pyplot as plt\n",
    "from scipy.interpolate import CubicSpline,LinearNDInterpolator\n",
    "from scipy.optimize import fsolve\n",
    "import time\n",
    "import pandas as pd\n",
    "import os\n",
    "from sklearn.linear_model import LinearRegression\n",
    "from scipy.optimize import curve_fit"
   ]
  },
  {
   "cell_type": "markdown",
   "metadata": {},
   "source": [
    "#### Polynomial Fit"
   ]
  },
  {
   "cell_type": "code",
   "execution_count": 44,
   "metadata": {},
   "outputs": [],
   "source": [
    "def quadFit(x,a1,a2,a3):\n",
    "    return a1*x**2+a2*x+a3"
   ]
  },
  {
   "cell_type": "markdown",
   "metadata": {},
   "source": [
    "### Viscous_parameters_solver Function"
   ]
  },
  {
   "cell_type": "code",
   "execution_count": 45,
   "metadata": {},
   "outputs": [],
   "source": [
    "def viscous_parameters_solver(t, theta,mdisk,mobject):\n",
    "    l = 0.6505\n",
    "    r = 0.36115625\n",
    "    g = 9.7949\n",
    "    mnet = mdisk+mobject #FIRST NUMBER IS DISK AND SENSOR, NOT INCLUDING TRANSMITTER\n",
    "    noise_param = 0.04\n",
    "\n",
    "     # Trim NaN values from t and theta\n",
    "    validIndicies = ~np.isnan(theta)\n",
    "    t = t[validIndicies]\n",
    "    theta = theta[validIndicies]\n",
    "    \n",
    "    # Filter the data\n",
    "    b, a = butter(4, 0.05, 'low')\n",
    "    filtered_theta = filtfilt(b, a, theta)\n",
    "    peak_filtering_param = 3 #remember to adjust as to remove outliers associated with signal noise\n",
    "\n",
    "    \n",
    "\n",
    "    # Use find_peaks with adjusted parameters to identify peaks\n",
    "    peaks, _ = find_peaks(filtered_theta, prominence=np.deg2rad(noise_param*peak_filtering_param))  # adjust prominence if needed\n",
    "\n",
    "    # Check if peaks are found\n",
    "    if len(peaks) == 0:\n",
    "        print(\"No peaks were found.\")\n",
    "        return [0, 0, 0, 0]\n",
    "\n",
    "    # Calculate the periods between peaks\n",
    "    periods = np.diff(t[peaks])\n",
    "    # plt.figure()\n",
    "    # plt.plot(t,theta,'kx',ms=1)\n",
    "    # plt.plot(t,filtered_theta,'r-')\n",
    "    # plt.xlim((0,15))\n",
    "    # plt.show()\n",
    "    # plt.figure()\n",
    "    # plt.plot(periods)\n",
    "    # plt.show()\n",
    "    # Calculate median filtered period\n",
    "    T_d = np.median(periods)\n",
    "    # print(f\"T_d = {T_d}\", end='\\n')\n",
    "    omega_d = (2 * np.pi) / T_d\n",
    "    # print(f\"Calculated wd = {omega_d}\", end='\\n')\n",
    "\n",
    "    # Calculate the damping ratio\n",
    "    amplitude_ratios = filtered_theta[peaks][1:] / filtered_theta[peaks][:-1]\n",
    "    damping_ratios = -1*np.log(amplitude_ratios)\n",
    "    # print(f\"Calculated dr = {np.median(damping_ratios)}\",end='\\n')\n",
    "    zeta = np.median(damping_ratios) / ( np.sqrt( (4 * np.pi ** 2) + (np.median(damping_ratios) ** 2) ) )\n",
    "    # print(f\"Calculated zeta = {zeta}\",end='\\n')\n",
    "\n",
    "    # Calculate natural frequency and inertia\n",
    "    omega_n = omega_d / np.sqrt(1 - zeta ** 2)\n",
    "    Inet_pure = (mnet * g * r ** 2) / (l * omega_n ** 2)\n",
    "    c_pure = zeta * 2 * np.sqrt(Inet_pure * ((mnet * g * r ** 2) / l))\n",
    "\n",
    "    return [Inet_pure, (mnet * g * r ** 2) / l, c_pure, 0]\n"
   ]
  },
  {
   "cell_type": "markdown",
   "metadata": {},
   "source": [
    "#### Calculating Disk Inertia, Known Inertia Values"
   ]
  },
  {
   "cell_type": "code",
   "execution_count": 46,
   "metadata": {},
   "outputs": [
    {
     "name": "stdout",
     "output_type": "stream",
     "text": [
      "0.4766684983469293\n"
     ]
    }
   ],
   "source": [
    "# # Importing Disk Data\n",
    "folder_path = '/home/coder/workspace/Finnamore/GODSAMONGUS'\n",
    "disk_path = '/home/coder/workspace/Finnamore/GODSAMONGUS'\n",
    "numTests = 30\n",
    "df_disk_data = {}\n",
    "disk_inertia_data = np.zeros(numTests)\n",
    "disk_period_data = np.zeros(numTests)\n",
    "\n",
    "# Importing and Calculating Disk Inertial Data\n",
    "for i in range(numTests):\n",
    "    # File Path Creation\n",
    "    file_name = 'I_D_4.4.24_{:02}.csv'.format(i)\n",
    "    file_path = os.path.join(disk_path,file_name)\n",
    "\n",
    "    #Reading in Data\n",
    "    df = pd.read_csv(file_path,usecols=[0,1])\n",
    "    df_disk_data[i] = df.values\n",
    "\n",
    "    #Solving for Disk Inertia\n",
    "    \n",
    "    disk_inertia_data[i] = viscous_parameters_solver(df_disk_data[i][:,0],df_disk_data[i][:,1],5.024,0)[0]\n",
    "\n",
    "#Setting up Dicitonary of Known Inertial Values\n",
    "disk_inertia = np.median(disk_inertia_data)\n",
    "disk_period = np.median(disk_period_data)\n",
    "I_names = ['Bigd','Smalld']\n",
    "print(disk_inertia)\n",
    "# Calculating and Storing Known Inertial Values\n",
    "m_single_weight = 0.4465\n",
    "\n"
   ]
  },
  {
   "cell_type": "markdown",
   "metadata": {},
   "source": [
    "### Import Data\n"
   ]
  },
  {
   "cell_type": "code",
   "execution_count": 47,
   "metadata": {},
   "outputs": [],
   "source": [
    "raw_data = {}\n",
    "inertia_data = {}\n",
    "period_data = {}\n",
    "# Define the pattern or names of your CSV files\n",
    "for name in I_names:\n",
    "    raw_data[name] = {}\n",
    "    inertia_data[name] = np.zeros(numTests)\n",
    "    period_data[name] = np.zeros(numTests)\n",
    "    for i in range(numTests):\n",
    "        if(name=='Bigd'):\n",
    "            file_name = ('I_2C_4.4.24_{}_{:02}.csv'.format('1',i))\n",
    "            file_path = os.path.join(folder_path, file_name)\n",
    "            df = pd.read_csv(file_path, usecols=[0, 1])\n",
    "            raw_data[name][i] = df.values\n",
    "            inertia_data[name][i] = viscous_parameters_solver(raw_data[name][i][:,0],raw_data[name][i][:,1],5.024,2*m_single_weight)[0] - disk_inertia\n",
    "        elif(name=='Smalld'):\n",
    "            file_name = ('I_2C_{}_{:02}.csv'.format('1',i))\n",
    "            file_path = os.path.join(folder_path, file_name)\n",
    "            df = pd.read_csv(file_path, usecols=[0, 1])\n",
    "            raw_data[name][i] = df.values\n",
    "            inertia_data[name][i] = viscous_parameters_solver(raw_data[name][i][:,0],raw_data[name][i][:,1],2.974,2*m_single_weight)[0] - 0.2\n"
   ]
  },
  {
   "cell_type": "markdown",
   "metadata": {},
   "source": [
    "### Plot/Print Results"
   ]
  },
  {
   "cell_type": "code",
   "execution_count": 49,
   "metadata": {},
   "outputs": [
    {
     "name": "stdout",
     "output_type": "stream",
     "text": [
      "Big D Error: 0.028960911031251254\n",
      "Small D Error: 0.004099628928789318\n",
      "[0.02925669 0.02771445 0.02925676 0.02887092 0.03002916 0.02925691\n",
      " 0.02887136 0.02925686 0.029256   0.0300284  0.02848493 0.02848514\n",
      " 0.02964251 0.02848539 0.02925732 0.02925675 0.02887059 0.02925683\n",
      " 0.02848486 0.02925663 0.02925665 0.02848445 0.02848527 0.02925628\n",
      " 0.0284848  0.02848463 0.02925653 0.02848448 0.02925648 0.0280993 ]\n",
      "[0.00409278 0.00448935 0.00409284 0.00409294 0.00448941 0.00330106\n",
      " 0.00448932 0.0036967  0.00409296 0.00409284 0.00369677 0.00369668\n",
      " 0.00448937 0.00409289 0.00448937 0.00369686 0.00369677 0.00429116\n",
      " 0.00369669 0.00448927 0.00409295 0.00429118 0.00409272 0.00369664\n",
      " 0.0040929  0.00409296 0.00468781 0.00448947 0.00448943 0.0036968 ]\n"
     ]
    },
    {
     "data": {
      "image/png": "[encoded data removed]",
      "text/plain": [
       "<Figure size 640x480 with 1 Axes>"
      ]
     },
     "metadata": {},
     "output_type": "display_data"
    }
   ],
   "source": [
    "actualInertia = 2*(0.4465*(0.0254**2)+(0.5*0.4465*((0.051/2)**2)))\n",
    "errorBig = 100*((inertia_data['Bigd']-actualInertia)/(actualInertia))\n",
    "errorSmall = 100*((inertia_data['Smalld']-actualInertia)/(actualInertia))\n",
    "print('Big D Error: {}'.format(np.mean(inertia_data['Bigd'])))\n",
    "print('Small D Error: {}'.format(np.mean(inertia_data['Smalld'])))\n",
    "plt.plot(errorBig)\n",
    "plt.plot(errorSmall)\n",
    "print(inertia_data['Bigd'])\n",
    "print(inertia_data['Smalld'])\n",
    "\n",
    "# kde_big = gaussian_kde(inertia_data['Bigd'])\n",
    "# kde_small = gaussian_kde(inertia_data['Smalld'])\n",
    "# xi_big = np.linspace(np.min(inertia_data['Bigd']),np.max(inertia_data['Bigd']),1000)\n",
    "# xi_big = np.linspace(np.min(inertia_data['Smalld']),np.max(inertia_data['Smalld']),1000)\n",
    "# plt.figure(figsize=(8,6))\n",
    "# print(xi_big)"
   ]
  },
  {
   "cell_type": "code",
   "execution_count": null,
   "metadata": {},
   "outputs": [],
   "source": []
  }
 ],
 "metadata": {
  "kernelspec": {
   "display_name": "Python 3",
   "language": "python",
   "name": "python3"
  },
  "language_info": {
   "codemirror_mode": {
    "name": "ipython",
    "version": 3
   },
   "file_extension": ".py",
   "mimetype": "text/x-python",
   "name": "python",
   "nbconvert_exporter": "python",
   "pygments_lexer": "ipython3",
   "version": "3.11.0"
  }
 },
 "nbformat": 4,
 "nbformat_minor": 2
}
