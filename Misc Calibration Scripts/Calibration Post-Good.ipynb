{
 "cells": [
  {
   "cell_type": "markdown",
   "metadata": {},
   "source": [
    "### Import Required Libraries"
   ]
  },
  {
   "cell_type": "code",
   "execution_count": 1,
   "metadata": {},
   "outputs": [],
   "source": [
    "import numpy as np\n",
    "from scipy.integrate import odeint\n",
    "from scipy.signal import butter, filtfilt, find_peaks\n",
    "from scipy.stats import gaussian_kde,ecdf\n",
    "import matplotlib.pyplot as plt\n",
    "from scipy.interpolate import CubicSpline,LinearNDInterpolator\n",
    "from scipy.optimize import fsolve\n",
    "import time\n",
    "import pandas as pd\n",
    "import os\n",
    "from sklearn.linear_model import LinearRegression\n",
    "from scipy.optimize import curve_fit"
   ]
  },
  {
   "cell_type": "markdown",
   "metadata": {},
   "source": [
    "#### Polynomial Fit"
   ]
  },
  {
   "cell_type": "code",
   "execution_count": 2,
   "metadata": {},
   "outputs": [],
   "source": [
    "def quadFit(x,a1,a2,a3):\n",
    "    return a1*x**2+a2*x+a3"
   ]
  },
  {
   "cell_type": "markdown",
   "metadata": {},
   "source": [
    "### Viscous_parameters_solver Function"
   ]
  },
  {
   "cell_type": "code",
   "execution_count": 3,
   "metadata": {},
   "outputs": [],
   "source": [
    "def viscous_parameters_solver(t, theta,mobject):\n",
    "    l = 0.6505\n",
    "    r = 0.36115625\n",
    "    g = 9.7949\n",
    "    mnet = 2.974+mobject #FIRST NUMBER IS DISK AND SENSOR, NOT INCLUDING TRANSMITTER\n",
    "    noise_param = 0.04\n",
    "\n",
    "     # Trim NaN values from t and theta\n",
    "    validIndicies = ~np.isnan(theta)\n",
    "    t = t[validIndicies]\n",
    "    theta = theta[validIndicies]\n",
    "    \n",
    "    # Filter the data\n",
    "    b, a = butter(4, 0.05, 'low')\n",
    "    filtered_theta = filtfilt(b, a, theta)\n",
    "    peak_filtering_param = 3 #remember to adjust as to remove outliers associated with signal noise\n",
    "\n",
    "    \n",
    "\n",
    "    # Use find_peaks with adjusted parameters to identify peaks\n",
    "    peaks, _ = find_peaks(filtered_theta, prominence=np.deg2rad(noise_param*peak_filtering_param))  # adjust prominence if needed\n",
    "\n",
    "    # Check if peaks are found\n",
    "    if len(peaks) == 0:\n",
    "        print(\"No peaks were found.\")\n",
    "        return [0, 0, 0, 0]\n",
    "\n",
    "    # Calculate the periods between peaks\n",
    "    periods = np.diff(t[peaks])\n",
    "    # plt.figure()\n",
    "    # plt.plot(t,theta,'kx',ms=1)\n",
    "    # plt.plot(t,filtered_theta,'r-')\n",
    "    # plt.xlim((0,15))\n",
    "    # plt.show()\n",
    "    # plt.figure()\n",
    "    # plt.plot(periods)\n",
    "    # plt.show()\n",
    "    # Calculate median filtered period\n",
    "    T_d = np.median(periods)\n",
    "    # print(f\"T_d = {T_d}\", end='\\n')\n",
    "    omega_d = (2 * np.pi) / T_d\n",
    "    # print(f\"Calculated wd = {omega_d}\", end='\\n')\n",
    "\n",
    "    # Calculate the damping ratio\n",
    "    amplitude_ratios = filtered_theta[peaks][1:] / filtered_theta[peaks][:-1]\n",
    "    damping_ratios = -1*np.log(amplitude_ratios)\n",
    "    # print(f\"Calculated dr = {np.median(damping_ratios)}\",end='\\n')\n",
    "    zeta = np.median(damping_ratios) / ( np.sqrt( (4 * np.pi ** 2) + (np.median(damping_ratios) ** 2) ) )\n",
    "    # print(f\"Calculated zeta = {zeta}\",end='\\n')\n",
    "\n",
    "    # Calculate natural frequency and inertia\n",
    "    omega_n = omega_d / np.sqrt(1 - zeta ** 2)\n",
    "    Inet_pure = (mnet * g * r ** 2) / (l * omega_n ** 2)\n",
    "    c_pure = zeta * 2 * np.sqrt(Inet_pure * ((mnet * g * r ** 2) / l))\n",
    "\n",
    "    return [Inet_pure, (mnet * g * r ** 2) / l, c_pure, 0]\n"
   ]
  },
  {
   "cell_type": "markdown",
   "metadata": {},
   "source": [
    "#### Calculating Disk Inertia, Known Inertia Values"
   ]
  },
  {
   "cell_type": "code",
   "execution_count": 4,
   "metadata": {},
   "outputs": [
    {
     "name": "stdout",
     "output_type": "stream",
     "text": [
      "0.2001148057725189\n"
     ]
    }
   ],
   "source": [
    "# # Importing Disk Data\n",
    "folder_path = '/home/coder/workspace/Finnamore/I_2C_Good'\n",
    "disk_path = '/home/coder/workspace/Finnamore/Mass_Calibration'\n",
    "numTests = 44\n",
    "df_disk_data = {}\n",
    "disk_inertia_data = np.zeros(numTests)\n",
    "disk_period_data = np.zeros(numTests)\n",
    "\n",
    "# Importing and Calculating Disk Inertial Data\n",
    "for i in range(numTests):\n",
    "    # File Path Creation\n",
    "    file_name = 'I_D_{:02}.csv'.format(i)\n",
    "    file_path = os.path.join(disk_path,file_name)\n",
    "\n",
    "    #Reading in Data\n",
    "    df = pd.read_csv(file_path,usecols=[0,1])\n",
    "    df_disk_data[i] = df.values\n",
    "\n",
    "    #Solving for Disk Inertia\n",
    "    \n",
    "    disk_inertia_data[i] = viscous_parameters_solver(df_disk_data[i][:,0],df_disk_data[i][:,1],0)[0]\n",
    "\n",
    "#Setting up Dicitonary of Known Inertial Values\n",
    "disk_inertia = np.median(disk_inertia_data)\n",
    "disk_period = np.median(disk_period_data)\n",
    "I_names = [11,9,7,5,3,1]\n",
    "print(disk_inertia)\n",
    "# Calculating and Storing Known Inertial Values\n",
    "\n",
    "\n",
    "m_single_weight = 0.4465\n",
    "I_single_cylinder = 0.5*m_single_weight*(0.0254**2)\n",
    "actual_inertias = {}\n",
    "for name in I_names:\n",
    "    actual_inertias[name] = np.ones(numTests)*2*(0.4465*((0.0254*float(name))**2)+(0.5*0.4465*((0.051/2)**2)))\n",
    "\n"
   ]
  },
  {
   "cell_type": "markdown",
   "metadata": {},
   "source": [
    "### Import Data\n"
   ]
  },
  {
   "cell_type": "code",
   "execution_count": 5,
   "metadata": {},
   "outputs": [],
   "source": [
    "raw_data = {}\n",
    "inertia_data = {}\n",
    "period_data = {}\n",
    "# Define the pattern or names of your CSV files\n",
    "for name in I_names:\n",
    "    raw_data[name] = {}\n",
    "    inertia_data[name] = np.zeros(numTests)\n",
    "    period_data[name] = np.zeros(numTests)\n",
    "    for i in range(numTests):\n",
    "        file_name = ('I_2C_{}_{:02}.csv'.format(name,i))\n",
    "        file_path = os.path.join(folder_path, file_name)\n",
    "        df = pd.read_csv(file_path, usecols=[0, 1])\n",
    "        raw_data[name][i] = df.values\n",
    "        inertia_data[name][i] = viscous_parameters_solver(raw_data[name][i][:,0],raw_data[name][i][:,1],2*m_single_weight)[0] - disk_inertia\n"
   ]
  },
  {
   "cell_type": "markdown",
   "metadata": {},
   "source": [
    "### Plot/Print Results"
   ]
  },
  {
   "cell_type": "code",
   "execution_count": 6,
   "metadata": {},
   "outputs": [
    {
     "name": "stdout",
     "output_type": "stream",
     "text": [
      "0.0008664645049999997\n",
      "Estimated parameters (a, b): [ 0.32285641  1.00266103 -0.00311155]\n",
      "Covariance: [[ 2.23252828e-03 -1.65118007e-04  1.70248191e-06]\n",
      " [-1.65118007e-04  1.30041570e-05 -1.49918391e-07]\n",
      " [ 1.70248191e-06 -1.49918391e-07  2.46954469e-09]]\n"
     ]
    },
    {
     "ename": "ValueError",
     "evalue": "x and y must be the same size",
     "output_type": "error",
     "traceback": [
      "\u001b[0;31m---------------------------------------------------------------------------\u001b[0m",
      "\u001b[0;31mValueError\u001b[0m                                Traceback (most recent call last)",
      "\u001b[1;32m/home/coder/workspace/Finnamore/Calibration Post-Good.ipynb Cell 12\u001b[0m line \u001b[0;36m8\n\u001b[1;32m     <a href='vscode-notebook-cell://fennec1.jaedynchilton.com/home/coder/workspace/Finnamore/Calibration%20Post-Good.ipynb#X14sdnNjb2RlLXJlbW90ZQ%3D%3D?line=80'>81</a>\u001b[0m plt\u001b[39m.\u001b[39maxhline(y\u001b[39m=\u001b[39m\u001b[39m0\u001b[39m,linestyle\u001b[39m=\u001b[39m\u001b[39m'\u001b[39m\u001b[39m-\u001b[39m\u001b[39m'\u001b[39m,c\u001b[39m=\u001b[39m\u001b[39m'\u001b[39m\u001b[39mk\u001b[39m\u001b[39m'\u001b[39m,alpha\u001b[39m=\u001b[39m\u001b[39m0.1\u001b[39m)\n\u001b[1;32m     <a href='vscode-notebook-cell://fennec1.jaedynchilton.com/home/coder/workspace/Finnamore/Calibration%20Post-Good.ipynb#X14sdnNjb2RlLXJlbW90ZQ%3D%3D?line=81'>82</a>\u001b[0m plt\u001b[39m.\u001b[39mfill_between(xvals,minError,maxError,color\u001b[39m=\u001b[39m\u001b[39m'\u001b[39m\u001b[39mk\u001b[39m\u001b[39m'\u001b[39m,alpha\u001b[39m=\u001b[39m\u001b[39m0.1\u001b[39m,edgecolors\u001b[39m=\u001b[39m\u001b[39m'\u001b[39m\u001b[39mnone\u001b[39m\u001b[39m'\u001b[39m)\n\u001b[0;32m---> <a href='vscode-notebook-cell://fennec1.jaedynchilton.com/home/coder/workspace/Finnamore/Calibration%20Post-Good.ipynb#X14sdnNjb2RlLXJlbW90ZQ%3D%3D?line=82'>83</a>\u001b[0m scatter \u001b[39m=\u001b[39m ax\u001b[39m.\u001b[39;49mscatter(actualInertias,percentError,c\u001b[39m=\u001b[39;49mkde_results,marker\u001b[39m=\u001b[39;49m\u001b[39m'\u001b[39;49m\u001b[39mo\u001b[39;49m\u001b[39m'\u001b[39;49m,edgecolors\u001b[39m=\u001b[39;49m\u001b[39m'\u001b[39;49m\u001b[39mnone\u001b[39;49m\u001b[39m'\u001b[39;49m,s\u001b[39m=\u001b[39;49m\u001b[39m30\u001b[39;49m,label\u001b[39m=\u001b[39;49m\u001b[39m'\u001b[39;49m\u001b[39mCollected Values\u001b[39;49m\u001b[39m'\u001b[39;49m)\n\u001b[1;32m     <a href='vscode-notebook-cell://fennec1.jaedynchilton.com/home/coder/workspace/Finnamore/Calibration%20Post-Good.ipynb#X14sdnNjb2RlLXJlbW90ZQ%3D%3D?line=83'>84</a>\u001b[0m fig\u001b[39m.\u001b[39mcolorbar(scatter, ax\u001b[39m=\u001b[39max, label\u001b[39m=\u001b[39m\u001b[39m'\u001b[39m\u001b[39mInterpolated Measurement Density\u001b[39m\u001b[39m'\u001b[39m)\n\u001b[1;32m     <a href='vscode-notebook-cell://fennec1.jaedynchilton.com/home/coder/workspace/Finnamore/Calibration%20Post-Good.ipynb#X14sdnNjb2RlLXJlbW90ZQ%3D%3D?line=84'>85</a>\u001b[0m plt\u001b[39m.\u001b[39mlegend()\n",
      "File \u001b[0;32m~/.local/lib/python3.11/site-packages/matplotlib/__init__.py:1465\u001b[0m, in \u001b[0;36m_preprocess_data.<locals>.inner\u001b[0;34m(ax, data, *args, **kwargs)\u001b[0m\n\u001b[1;32m   1462\u001b[0m \u001b[39m@functools\u001b[39m\u001b[39m.\u001b[39mwraps(func)\n\u001b[1;32m   1463\u001b[0m \u001b[39mdef\u001b[39;00m \u001b[39minner\u001b[39m(ax, \u001b[39m*\u001b[39margs, data\u001b[39m=\u001b[39m\u001b[39mNone\u001b[39;00m, \u001b[39m*\u001b[39m\u001b[39m*\u001b[39mkwargs):\n\u001b[1;32m   1464\u001b[0m     \u001b[39mif\u001b[39;00m data \u001b[39mis\u001b[39;00m \u001b[39mNone\u001b[39;00m:\n\u001b[0;32m-> 1465\u001b[0m         \u001b[39mreturn\u001b[39;00m func(ax, \u001b[39m*\u001b[39;49m\u001b[39mmap\u001b[39;49m(sanitize_sequence, args), \u001b[39m*\u001b[39;49m\u001b[39m*\u001b[39;49mkwargs)\n\u001b[1;32m   1467\u001b[0m     bound \u001b[39m=\u001b[39m new_sig\u001b[39m.\u001b[39mbind(ax, \u001b[39m*\u001b[39margs, \u001b[39m*\u001b[39m\u001b[39m*\u001b[39mkwargs)\n\u001b[1;32m   1468\u001b[0m     auto_label \u001b[39m=\u001b[39m (bound\u001b[39m.\u001b[39marguments\u001b[39m.\u001b[39mget(label_namer)\n\u001b[1;32m   1469\u001b[0m                   \u001b[39mor\u001b[39;00m bound\u001b[39m.\u001b[39mkwargs\u001b[39m.\u001b[39mget(label_namer))\n",
      "File \u001b[0;32m~/.local/lib/python3.11/site-packages/matplotlib/axes/_axes.py:4652\u001b[0m, in \u001b[0;36mAxes.scatter\u001b[0;34m(self, x, y, s, c, marker, cmap, norm, vmin, vmax, alpha, linewidths, edgecolors, plotnonfinite, **kwargs)\u001b[0m\n\u001b[1;32m   4650\u001b[0m y \u001b[39m=\u001b[39m np\u001b[39m.\u001b[39mma\u001b[39m.\u001b[39mravel(y)\n\u001b[1;32m   4651\u001b[0m \u001b[39mif\u001b[39;00m x\u001b[39m.\u001b[39msize \u001b[39m!=\u001b[39m y\u001b[39m.\u001b[39msize:\n\u001b[0;32m-> 4652\u001b[0m     \u001b[39mraise\u001b[39;00m \u001b[39mValueError\u001b[39;00m(\u001b[39m\"\u001b[39m\u001b[39mx and y must be the same size\u001b[39m\u001b[39m\"\u001b[39m)\n\u001b[1;32m   4654\u001b[0m \u001b[39mif\u001b[39;00m s \u001b[39mis\u001b[39;00m \u001b[39mNone\u001b[39;00m:\n\u001b[1;32m   4655\u001b[0m     s \u001b[39m=\u001b[39m (\u001b[39m20\u001b[39m \u001b[39mif\u001b[39;00m mpl\u001b[39m.\u001b[39mrcParams[\u001b[39m'\u001b[39m\u001b[39m_internal.classic_mode\u001b[39m\u001b[39m'\u001b[39m] \u001b[39melse\u001b[39;00m\n\u001b[1;32m   4656\u001b[0m          mpl\u001b[39m.\u001b[39mrcParams[\u001b[39m'\u001b[39m\u001b[39mlines.markersize\u001b[39m\u001b[39m'\u001b[39m] \u001b[39m*\u001b[39m\u001b[39m*\u001b[39m \u001b[39m2.0\u001b[39m)\n",
      "\u001b[0;31mValueError\u001b[0m: x and y must be the same size"
     ]
    },
    {
     "data": {
      "text/plain": [
       "<Figure size 640x480 with 0 Axes>"
      ]
     },
     "metadata": {},
     "output_type": "display_data"
    },
    {
     "data": {
      "image/png": "[encoded data removed]",
      "text/plain": [
       "<Figure size 1000x800 with 1 Axes>"
      ]
     },
     "metadata": {},
     "output_type": "display_data"
    }
   ],
   "source": [
    "print(np.mean([actual_inertias[1]]))\n",
    "actualInertias = np.array([])\n",
    "measuredInertias = np.array([])\n",
    "kde_results = np.array([])\n",
    "varianceFromMean = np.array([])\n",
    "errorFromMean = np.array([])  \n",
    "xvals = np.array([])\n",
    "minError = np.array([])\n",
    "medError = np.array([])\n",
    "maxError = np.array([])\n",
    "percentError = np.array([])\n",
    "minVariance = np.array([])\n",
    "maxVariance = np.array([])\n",
    "minErrorMean = np.array([])\n",
    "maxErrorMean = np.array([])\n",
    "maxes = np.array([])\n",
    "mins = np.array([])\n",
    "meds = np.array([])\n",
    "# inertia_data['1'][numTests-1] = np.mean(inertia_data['1'][0:numTests-2])\n",
    "for name in I_names:\n",
    "    actualInertias = np.concatenate((actualInertias,actual_inertias[name]))\n",
    "    measuredInertias = np.concatenate((measuredInertias,inertia_data[name]))\n",
    "\n",
    "# #This part because I have mental illness\n",
    "\n",
    "# Linear Model\n",
    "# x = measuredInertias.reshape((-1,1))\n",
    "# y = actualInertias\n",
    "# model = LinearRegression().fit(x, y)\n",
    "# a = model.coef_\n",
    "# b = model.intercept_\n",
    "# print(\"Model Coefficient: {}\".format(a))\n",
    "# print('Model Intercept: {}'.format(b))\n",
    "# print('Model r**2: {}'.format(model.score(x,y)))\n",
    "# measuredInertias = measuredInertias*a + b\n",
    "\n",
    "# Quadratic Model\n",
    "# Fit the model to the data\n",
    "params, covariance = curve_fit(quadFit, measuredInertias, actualInertias)\n",
    "\n",
    "# Extract the parameters\n",
    "a1, a2, a3 = params\n",
    "\n",
    "# Print the parameters\n",
    "print(\"Estimated parameters (a, b):\", params)\n",
    "print('Covariance: {}'.format(covariance))\n",
    "\n",
    "actualInertias = np.array([])\n",
    "measuredInertias = np.array([])\n",
    "\n",
    "for name in I_names:\n",
    "    # inertia_data[name] = inertia_data[name]*a + b   # Linear Model\n",
    "    inertia_data[name] = quadFit(inertia_data[name],a1,a2,a3)\n",
    "    error = ((inertia_data[name]-actual_inertias[name][0])/(actual_inertias[name][0]))*100\n",
    "    errorMean = (inertia_data[name]-np.mean(inertia_data[name]))\n",
    "    variance = ((inertia_data[name]-np.mean(inertia_data[name]))/(np.mean(inertia_data[name])))*100\n",
    "    varianceFromMean = np.concatenate((varianceFromMean,variance))\n",
    "    errorFromMean = np.concatenate((errorFromMean,errorMean))\n",
    "    percentError = np.concatenate((percentError,error))\n",
    "    kde = gaussian_kde(inertia_data[name])\n",
    "    kde_results = np.concatenate((kde_results,kde(inertia_data[name])))\n",
    "    xvals = np.append(xvals,actual_inertias[name][0])\n",
    "    minError = np.append(minError,np.min(error))\n",
    "    maxError = np.append(maxError,np.max(error))\n",
    "    medError = np.append(medError,np.median(error))\n",
    "    minErrorMean = np.append(minErrorMean,np.min(errorMean))\n",
    "    maxErrorMean = np.append(maxErrorMean,np.max(errorMean))\n",
    "    minVariance = np.append(minVariance,np.min(variance))\n",
    "    maxVariance = np.append(maxVariance,np.max(variance))\n",
    "    maxes = np.append(maxes,np.max(inertia_data[name]))\n",
    "    mins = np.append(mins,np.min(inertia_data[name]))\n",
    "    meds = np.append(meds,np.median(inertia_data[name]))\n",
    "\n",
    "\n",
    "    \n",
    "#  Plotting Percent Error\n",
    "plt.set_cmap('inferno')\n",
    "fig,ax = plt.subplots(figsize=(10,8))\n",
    "ax.set_facecolor('white')\n",
    "plt.plot(xvals,medError,c='k',linestyle='--',alpha=0.1)\n",
    "plt.axhline(y=0,linestyle='-',c='k',alpha=0.1)\n",
    "plt.fill_between(xvals,minError,maxError,color='k',alpha=0.1,edgecolors='none')\n",
    "scatter = ax.scatter(actualInertias,percentError,c=kde_results,marker='o',edgecolors='none',s=30,label='Collected Values')\n",
    "fig.colorbar(scatter, ax=ax, label='Interpolated Measurement Density')\n",
    "plt.legend()\n",
    "plt.xlabel('Actual Inertia Value [kg*m2]')\n",
    "plt.ylabel('Percent Error in Measured Inertia Value [kg*m2]')\n",
    "plt.title('True Inertia Value vs Percent Error in Calculated Value')\n",
    "\n",
    "# Plotting Actual Values\n",
    "plt.set_cmap('inferno')\n",
    "fig,ax = plt.subplots(figsize=(10,8))\n",
    "ax.set_facecolor('white')\n",
    "plt.plot(xvals,meds,c='k',linestyle='--',alpha=0.1)\n",
    "plt.plot(np.linspace(0,0.1,1000),np.linspace(0,0.1,1000),c='k',linestyle='-',alpha=0.2)\n",
    "plt.fill_between(xvals,mins,maxes,color='k',alpha=0.1,edgecolors='none')\n",
    "scatter = ax.scatter(actualInertias,measuredInertias,c=kde_results,marker='o',edgecolors='none',s=30,label='Collected Values')\n",
    "fig.colorbar(scatter, ax=ax, label='Interpolated Measurement Density')\n",
    "plt.legend()\n",
    "plt.xlabel('Actual Inertia Value [kg*m2]')\n",
    "plt.ylabel('Measured Inertia Value [kg*m2]')\n",
    "plt.title('Actual vs Measured Inertia Value')\n",
    "plt.xlim((0,0.1))\n",
    "plt.ylim((0,0.1))\n",
    "\n",
    "# Plotting Variance from Mean\n",
    "plt.set_cmap('inferno')\n",
    "fig,ax = plt.subplots(figsize=(10,8))\n",
    "ax.set_facecolor('white')\n",
    "plt.axhline(y=0,linestyle='--',c='k',alpha=0.1)\n",
    "plt.fill_between(xvals,minVariance,maxVariance,color='k',alpha=0.1,edgecolors='none')\n",
    "scatter = ax.scatter(actualInertias,varianceFromMean,c=kde_results,marker='o',edgecolors='none',s=50,label='Collected Values')\n",
    "fig.colorbar(scatter, ax=ax, label='Interpolated Measurement Density')\n",
    "plt.legend()\n",
    "plt.xlabel('Actual Inertia Value [kg*m2]')\n",
    "plt.ylabel('Percent Variance from the Mean Measured Value (aka precision)')\n",
    "plt.title('True Inertia Value vs Precision')\n",
    "\n",
    "# Plotting Variance from Mean\n",
    "plt.set_cmap('inferno')\n",
    "fig,ax = plt.subplots(figsize=(10,8))\n",
    "ax.set_facecolor('white')\n",
    "plt.axhline(y=0,linestyle='--',c='k',alpha=0.1)\n",
    "plt.fill_between(xvals,minErrorMean,maxErrorMean,color='k',alpha=0.1,edgecolors='none')\n",
    "scatter = ax.scatter(actualInertias,errorFromMean,c=kde_results,marker='o',edgecolors='none',s=50,label='Collected Values')\n",
    "fig.colorbar(scatter, ax=ax, label='Interpolated Measurement Density')\n",
    "plt.legend()\n",
    "plt.xlabel('Actual Inertia Value [kg*m2]')\n",
    "plt.ylabel('Variance from the Mean Measured Value (aka precision)')\n",
    "plt.title('True Inertia Value vs Precision')"
   ]
  }
 ],
 "metadata": {
  "kernelspec": {
   "display_name": "Python 3",
   "language": "python",
   "name": "python3"
  },
  "language_info": {
   "codemirror_mode": {
    "name": "ipython",
    "version": 3
   },
   "file_extension": ".py",
   "mimetype": "text/x-python",
   "name": "python",
   "nbconvert_exporter": "python",
   "pygments_lexer": "ipython3",
   "version": "3.11.0rc1"
  }
 },
 "nbformat": 4,
 "nbformat_minor": 2
}
