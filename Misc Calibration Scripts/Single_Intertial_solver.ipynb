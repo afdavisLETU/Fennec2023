{
 "cells": [
  {
   "cell_type": "markdown",
   "metadata": {},
   "source": [
    "### Import Required Libraries"
   ]
  },
  {
   "cell_type": "code",
   "execution_count": 6,
   "metadata": {},
   "outputs": [],
   "source": [
    "import numpy as np\n",
    "from scipy.integrate import odeint\n",
    "from scipy.signal import butter, filtfilt, find_peaks\n",
    "from scipy.stats import gaussian_kde,ecdf\n",
    "import matplotlib.pyplot as plt\n",
    "from scipy.interpolate import CubicSpline\n",
    "from scipy.optimize import fsolve\n",
    "import time\n",
    "import pandas as pd\n",
    "import os"
   ]
  },
  {
   "cell_type": "markdown",
   "metadata": {},
   "source": [
    "### Viscous_parameters_solver Function"
   ]
  },
  {
   "cell_type": "code",
   "execution_count": 7,
   "metadata": {},
   "outputs": [],
   "source": [
    "def viscous_parameters_solver(t, theta,mobject):\n",
    "    l = 0.6505\n",
    "    r = 0.36115625\n",
    "    g = 9.7949\n",
    "    mnet = 2.974+mobject #FIRST NUMBER IS DISK AND SENSOR, NOT INCLUDING TRANSMITTER\n",
    "    noise_param = 0.04\n",
    "    # Filter the data\n",
    "    b, a = butter(4, 0.05, 'low')\n",
    "    filtered_theta = filtfilt(b, a, theta)\n",
    "    peak_filtering_param = 3 #remember to adjust as to remove outliers associated with signal noise\n",
    "\n",
    "    # Use find_peaks with adjusted parameters to identify peaks\n",
    "    peaks, _ = find_peaks(filtered_theta, prominence=np.deg2rad(noise_param*peak_filtering_param))  # adjust prominence if needed\n",
    "\n",
    "    # Check if peaks are found\n",
    "    if len(peaks) == 0:\n",
    "        print(\"No peaks were found.\")\n",
    "        return [0, 0, 0, 0]\n",
    "\n",
    "    # Calculate the periods between peaks\n",
    "    periods = np.diff(t[peaks])\n",
    "    # plt.figure()\n",
    "    # plt.plot(t,theta,'kx',ms=1)\n",
    "    # plt.plot(t,filtered_theta,'r-')\n",
    "    # plt.xlim((0,15))\n",
    "    # plt.show()\n",
    "    # plt.figure()\n",
    "    # plt.plot(periods)\n",
    "    # plt.show()\n",
    "    # Calculate median filtered period\n",
    "    T_d = np.median(periods)\n",
    "    # print(f\"T_d = {T_d}\", end='\\n')\n",
    "    omega_d = (2 * np.pi) / T_d\n",
    "    # print(f\"Calculated wd = {omega_d}\", end='\\n')\n",
    "\n",
    "    # Calculate the damping ratio\n",
    "    amplitude_ratios = filtered_theta[peaks][1:] / filtered_theta[peaks][:-1]\n",
    "    damping_ratios = -1*np.log(amplitude_ratios)\n",
    "    # print(f\"Calculated dr = {np.median(damping_ratios)}\",end='\\n')\n",
    "    zeta = np.median(damping_ratios) / ( np.sqrt( (4 * np.pi ** 2) + (np.median(damping_ratios) ** 2) ) )\n",
    "    # print(f\"Calculated zeta = {zeta}\",end='\\n')\n",
    "\n",
    "    # Calculate natural frequency and inertia\n",
    "    omega_n = omega_d / np.sqrt(1 - zeta ** 2)\n",
    "    Inet_pure = (mnet * g * r ** 2) / (l * omega_n ** 2)\n",
    "    c_pure = zeta * 2 * np.sqrt(Inet_pure * ((mnet * g * r ** 2) / l))\n",
    "\n",
    "    return [Inet_pure, (mnet * g * r ** 2) / l, c_pure, 0]\n"
   ]
  },
  {
   "cell_type": "markdown",
   "metadata": {},
   "source": [
    "### Import Data\n"
   ]
  },
  {
   "cell_type": "code",
   "execution_count": 8,
   "metadata": {},
   "outputs": [],
   "source": [
    "folder_path = '/home/coder/workspace/Finnamore/Mass_Calibration'\n",
    "\n",
    "# Numer of Trials per Test\n",
    "numTests = 45\n",
    "raw_data = {}\n",
    "# Define the pattern or names of your CSV files\n",
    "for i in range(numTests):\n",
    "    raw_data[i] = {}\n",
    "    file_name_disk = 'I_D_{:02}.csv'.format(i)\n",
    "    file_path_disk = os.path.join(folder_path, file_name_disk)\n",
    "    file_name_full = 'I_.4465_{:02}.csv'.format(i)\n",
    "    file_path_full = os.path.join(folder_path, file_name_full)\n",
    "    df_disk = pd.read_csv(file_path_disk, usecols=[0, 1])\n",
    "    df_full = pd.read_csv(file_path_full, usecols=[0, 1])\n",
    "    raw_data[i]['Disk'] = df_disk.values\n",
    "    raw_data[i]['Full'] = df_full.values\n",
    "\n",
    "# Converting ms to s\n",
    "for i in range(numTests):\n",
    "    raw_data[i]['Disk'][:,0] = np.divide(raw_data[i]['Disk'][:,0],1000)\n",
    "    raw_data[i]['Full'][:,0] = np.divide(raw_data[i]['Full'][:,0],1000)\n"
   ]
  },
  {
   "cell_type": "markdown",
   "metadata": {},
   "source": [
    "### Calculate Inertial Values"
   ]
  },
  {
   "cell_type": "code",
   "execution_count": 11,
   "metadata": {},
   "outputs": [
    {
     "name": "stdout",
     "output_type": "stream",
     "text": [
      "No peaks were found.\n",
      "No peaks were found.\n",
      "No peaks were found.\n",
      "No peaks were found.\n",
      "No peaks were found.\n",
      "No peaks were found.\n",
      "No peaks were found.\n",
      "No peaks were found.\n",
      "No peaks were found.\n",
      "No peaks were found.\n",
      "No peaks were found.\n",
      "No peaks were found.\n",
      "No peaks were found.\n",
      "No peaks were found.\n",
      "No peaks were found.\n",
      "No peaks were found.\n",
      "No peaks were found.\n",
      "No peaks were found.\n",
      "No peaks were found.\n",
      "No peaks were found.\n",
      "No peaks were found.\n",
      "No peaks were found.\n",
      "No peaks were found.\n",
      "No peaks were found.\n",
      "No peaks were found.\n",
      "No peaks were found.\n"
     ]
    },
    {
     "name": "stderr",
     "output_type": "stream",
     "text": [
      "/tmp/ipykernel_96712/2554623644.py:38: RuntimeWarning: invalid value encountered in log\n",
      "  damping_ratios = -1*np.log(amplitude_ratios)\n"
     ]
    }
   ],
   "source": [
    "inertia_values = np.zeros((numTests,4))\n",
    "types = ['Disk','Full']\n",
    "# I_actual in this case is a towel roll\n",
    "I_object = 0.5*.9865*((.15533/2)**2+(.03723/2)**2)\n",
    "\n",
    "for i in range(numTests):\n",
    "    inertia_values[i][0] = viscous_parameters_solver(raw_data[i]['Disk'][:,0], raw_data[i]['Disk'][:,1],0)[0]\n",
    "    inertia_values[i][1] = viscous_parameters_solver(raw_data[i]['Full'][:,0], raw_data[i]['Full'][:,1],.9865)[0]\n",
    "    inertia_values[i][2] = inertia_values[i][1]-inertia_values[i][0]\n",
    "    inertia_values[i][3] = ((inertia_values[i][2]-I_object)/(I_object))*100\n"
   ]
  },
  {
   "cell_type": "markdown",
   "metadata": {},
   "source": [
    "### Plot/Print Results"
   ]
  },
  {
   "cell_type": "code",
   "execution_count": 10,
   "metadata": {},
   "outputs": [
    {
     "ename": "ValueError",
     "evalue": "array must not contain infs or NaNs",
     "output_type": "error",
     "traceback": [
      "\u001b[0;31m---------------------------------------------------------------------------\u001b[0m",
      "\u001b[0;31mValueError\u001b[0m                                Traceback (most recent call last)",
      "\u001b[1;32m/home/coder/workspace/Finnamore/Single_Intertial_solver.ipynb Cell 10\u001b[0m line \u001b[0;36m1\n\u001b[1;32m      <a href='vscode-notebook-cell://fennec1.jaedynchilton.com/home/coder/workspace/Finnamore/Single_Intertial_solver.ipynb#X12sdnNjb2RlLXJlbW90ZQ%3D%3D?line=8'>9</a>\u001b[0m \u001b[39m# Gaussian Distributions\u001b[39;00m\n\u001b[1;32m     <a href='vscode-notebook-cell://fennec1.jaedynchilton.com/home/coder/workspace/Finnamore/Single_Intertial_solver.ipynb#X12sdnNjb2RlLXJlbW90ZQ%3D%3D?line=9'>10</a>\u001b[0m kde_I_disk \u001b[39m=\u001b[39m gaussian_kde(inertia_values[:,\u001b[39m0\u001b[39m])\n\u001b[0;32m---> <a href='vscode-notebook-cell://fennec1.jaedynchilton.com/home/coder/workspace/Finnamore/Single_Intertial_solver.ipynb#X12sdnNjb2RlLXJlbW90ZQ%3D%3D?line=10'>11</a>\u001b[0m kde_I_full \u001b[39m=\u001b[39m gaussian_kde(inertia_values[:,\u001b[39m1\u001b[39;49m])\n\u001b[1;32m     <a href='vscode-notebook-cell://fennec1.jaedynchilton.com/home/coder/workspace/Finnamore/Single_Intertial_solver.ipynb#X12sdnNjb2RlLXJlbW90ZQ%3D%3D?line=11'>12</a>\u001b[0m kde_I_object \u001b[39m=\u001b[39m gaussian_kde(inertia_values[:,\u001b[39m2\u001b[39m])\n\u001b[1;32m     <a href='vscode-notebook-cell://fennec1.jaedynchilton.com/home/coder/workspace/Finnamore/Single_Intertial_solver.ipynb#X12sdnNjb2RlLXJlbW90ZQ%3D%3D?line=12'>13</a>\u001b[0m kde_I_error \u001b[39m=\u001b[39m gaussian_kde(inertia_values[:,\u001b[39m3\u001b[39m])\n",
      "File \u001b[0;32m~/.local/lib/python3.11/site-packages/scipy/stats/_kde.py:223\u001b[0m, in \u001b[0;36mgaussian_kde.__init__\u001b[0;34m(self, dataset, bw_method, weights)\u001b[0m\n\u001b[1;32m    220\u001b[0m     \u001b[39mraise\u001b[39;00m \u001b[39mValueError\u001b[39;00m(msg)\n\u001b[1;32m    222\u001b[0m \u001b[39mtry\u001b[39;00m:\n\u001b[0;32m--> 223\u001b[0m     \u001b[39mself\u001b[39;49m\u001b[39m.\u001b[39;49mset_bandwidth(bw_method\u001b[39m=\u001b[39;49mbw_method)\n\u001b[1;32m    224\u001b[0m \u001b[39mexcept\u001b[39;00m linalg\u001b[39m.\u001b[39mLinAlgError \u001b[39mas\u001b[39;00m e:\n\u001b[1;32m    225\u001b[0m     msg \u001b[39m=\u001b[39m (\u001b[39m\"\u001b[39m\u001b[39mThe data appears to lie in a lower-dimensional subspace \u001b[39m\u001b[39m\"\u001b[39m\n\u001b[1;32m    226\u001b[0m            \u001b[39m\"\u001b[39m\u001b[39mof the space in which it is expressed. This has resulted \u001b[39m\u001b[39m\"\u001b[39m\n\u001b[1;32m    227\u001b[0m            \u001b[39m\"\u001b[39m\u001b[39min a singular data covariance matrix, which cannot be \u001b[39m\u001b[39m\"\u001b[39m\n\u001b[0;32m   (...)\u001b[0m\n\u001b[1;32m    230\u001b[0m            \u001b[39m\"\u001b[39m\u001b[39manalysis / dimensionality reduction and using \u001b[39m\u001b[39m\"\u001b[39m\n\u001b[1;32m    231\u001b[0m            \u001b[39m\"\u001b[39m\u001b[39m`gaussian_kde` with the transformed data.\u001b[39m\u001b[39m\"\u001b[39m)\n",
      "File \u001b[0;32m~/.local/lib/python3.11/site-packages/scipy/stats/_kde.py:571\u001b[0m, in \u001b[0;36mgaussian_kde.set_bandwidth\u001b[0;34m(self, bw_method)\u001b[0m\n\u001b[1;32m    567\u001b[0m     msg \u001b[39m=\u001b[39m \u001b[39m\"\u001b[39m\u001b[39m`bw_method` should be \u001b[39m\u001b[39m'\u001b[39m\u001b[39mscott\u001b[39m\u001b[39m'\u001b[39m\u001b[39m, \u001b[39m\u001b[39m'\u001b[39m\u001b[39msilverman\u001b[39m\u001b[39m'\u001b[39m\u001b[39m, a scalar \u001b[39m\u001b[39m\"\u001b[39m \\\n\u001b[1;32m    568\u001b[0m           \u001b[39m\"\u001b[39m\u001b[39mor a callable.\u001b[39m\u001b[39m\"\u001b[39m\n\u001b[1;32m    569\u001b[0m     \u001b[39mraise\u001b[39;00m \u001b[39mValueError\u001b[39;00m(msg)\n\u001b[0;32m--> 571\u001b[0m \u001b[39mself\u001b[39;49m\u001b[39m.\u001b[39;49m_compute_covariance()\n",
      "File \u001b[0;32m~/.local/lib/python3.11/site-packages/scipy/stats/_kde.py:583\u001b[0m, in \u001b[0;36mgaussian_kde._compute_covariance\u001b[0;34m(self)\u001b[0m\n\u001b[1;32m    579\u001b[0m \u001b[39mif\u001b[39;00m \u001b[39mnot\u001b[39;00m \u001b[39mhasattr\u001b[39m(\u001b[39mself\u001b[39m, \u001b[39m'\u001b[39m\u001b[39m_data_cho_cov\u001b[39m\u001b[39m'\u001b[39m):\n\u001b[1;32m    580\u001b[0m     \u001b[39mself\u001b[39m\u001b[39m.\u001b[39m_data_covariance \u001b[39m=\u001b[39m atleast_2d(cov(\u001b[39mself\u001b[39m\u001b[39m.\u001b[39mdataset, rowvar\u001b[39m=\u001b[39m\u001b[39m1\u001b[39m,\n\u001b[1;32m    581\u001b[0m                                        bias\u001b[39m=\u001b[39m\u001b[39mFalse\u001b[39;00m,\n\u001b[1;32m    582\u001b[0m                                        aweights\u001b[39m=\u001b[39m\u001b[39mself\u001b[39m\u001b[39m.\u001b[39mweights))\n\u001b[0;32m--> 583\u001b[0m     \u001b[39mself\u001b[39m\u001b[39m.\u001b[39m_data_cho_cov \u001b[39m=\u001b[39m linalg\u001b[39m.\u001b[39;49mcholesky(\u001b[39mself\u001b[39;49m\u001b[39m.\u001b[39;49m_data_covariance,\n\u001b[1;32m    584\u001b[0m                                          lower\u001b[39m=\u001b[39;49m\u001b[39mTrue\u001b[39;49;00m)\n\u001b[1;32m    586\u001b[0m \u001b[39mself\u001b[39m\u001b[39m.\u001b[39mcovariance \u001b[39m=\u001b[39m \u001b[39mself\u001b[39m\u001b[39m.\u001b[39m_data_covariance \u001b[39m*\u001b[39m \u001b[39mself\u001b[39m\u001b[39m.\u001b[39mfactor\u001b[39m*\u001b[39m\u001b[39m*\u001b[39m\u001b[39m2\u001b[39m\n\u001b[1;32m    587\u001b[0m \u001b[39mself\u001b[39m\u001b[39m.\u001b[39mcho_cov \u001b[39m=\u001b[39m (\u001b[39mself\u001b[39m\u001b[39m.\u001b[39m_data_cho_cov \u001b[39m*\u001b[39m \u001b[39mself\u001b[39m\u001b[39m.\u001b[39mfactor)\u001b[39m.\u001b[39mastype(np\u001b[39m.\u001b[39mfloat64)\n",
      "File \u001b[0;32m~/.local/lib/python3.11/site-packages/scipy/linalg/_decomp_cholesky.py:89\u001b[0m, in \u001b[0;36mcholesky\u001b[0;34m(a, lower, overwrite_a, check_finite)\u001b[0m\n\u001b[1;32m     45\u001b[0m \u001b[39mdef\u001b[39;00m \u001b[39mcholesky\u001b[39m(a, lower\u001b[39m=\u001b[39m\u001b[39mFalse\u001b[39;00m, overwrite_a\u001b[39m=\u001b[39m\u001b[39mFalse\u001b[39;00m, check_finite\u001b[39m=\u001b[39m\u001b[39mTrue\u001b[39;00m):\n\u001b[1;32m     46\u001b[0m \u001b[39m    \u001b[39m\u001b[39m\"\"\"\u001b[39;00m\n\u001b[1;32m     47\u001b[0m \u001b[39m    Compute the Cholesky decomposition of a matrix.\u001b[39;00m\n\u001b[1;32m     48\u001b[0m \n\u001b[0;32m   (...)\u001b[0m\n\u001b[1;32m     87\u001b[0m \n\u001b[1;32m     88\u001b[0m \u001b[39m    \"\"\"\u001b[39;00m\n\u001b[0;32m---> 89\u001b[0m     c, lower \u001b[39m=\u001b[39m _cholesky(a, lower\u001b[39m=\u001b[39;49mlower, overwrite_a\u001b[39m=\u001b[39;49moverwrite_a, clean\u001b[39m=\u001b[39;49m\u001b[39mTrue\u001b[39;49;00m,\n\u001b[1;32m     90\u001b[0m                          check_finite\u001b[39m=\u001b[39;49mcheck_finite)\n\u001b[1;32m     91\u001b[0m     \u001b[39mreturn\u001b[39;00m c\n",
      "File \u001b[0;32m~/.local/lib/python3.11/site-packages/scipy/linalg/_decomp_cholesky.py:17\u001b[0m, in \u001b[0;36m_cholesky\u001b[0;34m(a, lower, overwrite_a, clean, check_finite)\u001b[0m\n\u001b[1;32m     13\u001b[0m \u001b[39mdef\u001b[39;00m \u001b[39m_cholesky\u001b[39m(a, lower\u001b[39m=\u001b[39m\u001b[39mFalse\u001b[39;00m, overwrite_a\u001b[39m=\u001b[39m\u001b[39mFalse\u001b[39;00m, clean\u001b[39m=\u001b[39m\u001b[39mTrue\u001b[39;00m,\n\u001b[1;32m     14\u001b[0m               check_finite\u001b[39m=\u001b[39m\u001b[39mTrue\u001b[39;00m):\n\u001b[1;32m     15\u001b[0m \u001b[39m    \u001b[39m\u001b[39m\"\"\"Common code for cholesky() and cho_factor().\"\"\"\u001b[39;00m\n\u001b[0;32m---> 17\u001b[0m     a1 \u001b[39m=\u001b[39m asarray_chkfinite(a) \u001b[39mif\u001b[39;00m check_finite \u001b[39melse\u001b[39;00m asarray(a)\n\u001b[1;32m     18\u001b[0m     a1 \u001b[39m=\u001b[39m atleast_2d(a1)\n\u001b[1;32m     20\u001b[0m     \u001b[39m# Dimension check\u001b[39;00m\n",
      "File \u001b[0;32m/usr/local/lib/python3.11/dist-packages/numpy/lib/function_base.py:630\u001b[0m, in \u001b[0;36masarray_chkfinite\u001b[0;34m(a, dtype, order)\u001b[0m\n\u001b[1;32m    628\u001b[0m a \u001b[39m=\u001b[39m asarray(a, dtype\u001b[39m=\u001b[39mdtype, order\u001b[39m=\u001b[39morder)\n\u001b[1;32m    629\u001b[0m \u001b[39mif\u001b[39;00m a\u001b[39m.\u001b[39mdtype\u001b[39m.\u001b[39mchar \u001b[39min\u001b[39;00m typecodes[\u001b[39m'\u001b[39m\u001b[39mAllFloat\u001b[39m\u001b[39m'\u001b[39m] \u001b[39mand\u001b[39;00m \u001b[39mnot\u001b[39;00m np\u001b[39m.\u001b[39misfinite(a)\u001b[39m.\u001b[39mall():\n\u001b[0;32m--> 630\u001b[0m     \u001b[39mraise\u001b[39;00m \u001b[39mValueError\u001b[39;00m(\n\u001b[1;32m    631\u001b[0m         \u001b[39m\"\u001b[39m\u001b[39marray must not contain infs or NaNs\u001b[39m\u001b[39m\"\u001b[39m)\n\u001b[1;32m    632\u001b[0m \u001b[39mreturn\u001b[39;00m a\n",
      "\u001b[0;31mValueError\u001b[0m: array must not contain infs or NaNs"
     ]
    }
   ],
   "source": [
    "# KDE plot for Results\n",
    "# REMEMBER TO CHECK PARAMS INSIDE VISCOUS_SOLVER (ESPECIALLY MNET)\n",
    "\n",
    "I_disk_mean = np.median(inertia_values[:,0])\n",
    "I_full_mean = np.median(inertia_values[:,1])\n",
    "I_object_mean = np.median(inertia_values[:,2])\n",
    "I_error_mean = np.median(inertia_values[:,3])\n",
    "\n",
    "# Gaussian Distributions\n",
    "kde_I_disk = gaussian_kde(inertia_values[:,0])\n",
    "kde_I_full = gaussian_kde(inertia_values[:,1])\n",
    "kde_I_object = gaussian_kde(inertia_values[:,2])\n",
    "kde_I_error = gaussian_kde(inertia_values[:,3])\n",
    "\n",
    "xi_disk = np.linspace(np.min(inertia_values[:,0]), np.max(inertia_values[:,0]), 1000)\n",
    "xi_full = np.linspace(np.min(inertia_values[:,1]), np.max(inertia_values[:,1]), 1000)\n",
    "xi_object = np.linspace(np.min(inertia_values[:,2]), np.max(inertia_values[:,2]), 1000)\n",
    "xi_error = np.linspace(np.min(inertia_values[:,3]), np.max(inertia_values[:,3]), 1000)\n",
    "f = kde_I_error(xi_error)\n",
    "\n",
    "# Disk and Full\n",
    "plt.figure()\n",
    "plt.plot(xi_disk, kde_I_disk(xi_disk),color='blue',ls='-')\n",
    "plt.fill_between(xi_disk,np.zeros(1000),kde_I_disk(xi_disk),color='blue',alpha=0.2)\n",
    "plt.plot(xi_full, kde_I_full(xi_full), color='red',ls='-')\n",
    "plt.fill_between(xi_full,np.zeros(1000),kde_I_full(xi_full),color='red',alpha=0.2)\n",
    "plt.xlim(np.min(inertia_values[:,0]), np.max(inertia_values[:,1]))\n",
    "plt.ylim([0,np.max(kde_I_full(xi_full))*1.1])\n",
    "plt.axvline(x=I_disk_mean, color='blue', label='Disk Inertia',ls='--')\n",
    "plt.axvline(x=I_full_mean, color='red', label='Full Setup Inertia',ls='--')\n",
    "plt.xlabel('Measured Moment of Inertia')\n",
    "plt.ylabel('Density Estimate')\n",
    "plt.title('Measured Moments of Inertia')\n",
    "plt.legend()\n",
    "plt.show()\n",
    "\n",
    "# Object\n",
    "plt.figure()\n",
    "plt.plot(xi_object, kde_I_object(xi_object), color='black',ls='-')\n",
    "plt.fill_between(xi_object,np.zeros(1000),kde_I_object(xi_object),color='black',alpha=0.2)\n",
    "plt.xlabel('Measured Moment of Inertia')\n",
    "plt.ylabel('Density Estimate')\n",
    "plt.title('Measured Moments of Inertia')\n",
    "plt.xlim([np.min(inertia_values[:,2]), np.max(inertia_values[:,2])])\n",
    "plt.ylim([0,np.max(kde_I_object(xi_object))*1.1])\n",
    "plt.axvline(x=I_object_mean, color='black', label='Measured Object Inertia',ls='--')\n",
    "plt.axvline(x=I_object, color='red', label='Actual Object Inertia',ls='-')\n",
    "plt.legend()\n",
    "plt.show()\n",
    "\n",
    "# Percent Error\n",
    "plt.figure()\n",
    "plt.plot(xi_error, kde_I_error(xi_error), color='black',ls='-')\n",
    "plt.fill_between(xi_error,np.zeros(1000),kde_I_error(xi_error),color='black',alpha=0.2)\n",
    "plt.xlabel('Percent Error')\n",
    "plt.ylabel('Density Estimate')\n",
    "plt.title('Percent Error')\n",
    "plt.xlim([-50,np.max(inertia_values[:][3])])\n",
    "plt.ylim([0,np.max(kde_I_error(xi_error))*1.1])\n",
    "plt.axvline(x=I_error_mean, color='black', label='Mean Error',ls='--')\n",
    "plt.axvline(x=0, color='red', label='Error = 0',ls='-')\n",
    "plt.legend()\n",
    "plt.show()"
   ]
  }
 ],
 "metadata": {
  "kernelspec": {
   "display_name": "Python 3",
   "language": "python",
   "name": "python3"
  },
  "language_info": {
   "codemirror_mode": {
    "name": "ipython",
    "version": 3
   },
   "file_extension": ".py",
   "mimetype": "text/x-python",
   "name": "python",
   "nbconvert_exporter": "python",
   "pygments_lexer": "ipython3",
   "version": "3.11.0"
  }
 },
 "nbformat": 4,
 "nbformat_minor": 2
}
