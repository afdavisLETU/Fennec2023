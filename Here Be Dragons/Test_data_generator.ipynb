{
 "cells": [
  {
   "cell_type": "code",
   "execution_count": 2,
   "metadata": {},
   "outputs": [],
   "source": [
    "import numpy as np\n",
    "from scipy.integrate import odeint\n",
    "from scipy.signal import butter, filtfilt, find_peaks\n",
    "from scipy.stats import gaussian_kde,ecdf\n",
    "import matplotlib.pyplot as plt\n",
    "from scipy.interpolate import CubicSpline\n",
    "import time"
   ]
  },
  {
   "cell_type": "code",
   "execution_count": 3,
   "metadata": {},
   "outputs": [],
   "source": [
    "def combined_model(I_net, M_net, c_net, z_net, tspan, init_conds):\n",
    "    I_uncertainty = 0\n",
    "    M_uncertainty = 0\n",
    "    l_uncertainty = 0\n",
    "    g_uncertainty = 0.0\n",
    "    viscous_uncertainty = 0\n",
    "    friction_uncertainty = 0\n",
    "    noise_const = np.deg2rad(0.04, dtype=np.float128) #note that if you turn this to zero things appear to shit themselves\n",
    "    Init_conds_uncertainty = [0, 0]\n",
    "\n",
    "    I = np.float128(I_net) + ((2 * np.random.rand() - 1) * I_uncertainty)\n",
    "    M = np.float128(M_net) + ((2 * np.random.rand() - 1) * M_uncertainty)\n",
    "    l = 1 + ((2 * np.random.rand() - 1) * l_uncertainty)\n",
    "    r = (.75 / 2) + ((2 * np.random.rand() - 1) * l_uncertainty)\n",
    "    g = 9.7949 + ((2 * np.random.rand() - 1) * g_uncertainty)\n",
    "    c = c_net + ((2 * np.random.rand() - 1) * viscous_uncertainty)\n",
    "    z = z_net + ((2 * np.random.rand() - 1) * friction_uncertainty)\n",
    "    ics = init_conds + ((2 * np.random.rand(2) - 1) * Init_conds_uncertainty)\n",
    "\n",
    "    paramsTrue = [I, M, g, r, l, c, z]\n",
    "\n",
    "    def combined_system(T, t):\n",
    "        I, M, g, r, l, c, z = paramsTrue\n",
    "        tdot1 = T[1]\n",
    "        tdot2 = ((-z * np.sign(T[1])) - (c * T[1]) - ((M * g * r ** 2 / l) * T[0])) / I\n",
    "        return [tdot1, tdot2]\n",
    "\n",
    "    theta_m = odeint(combined_system, ics, tspan)\n",
    "    noise = noise_const * (2 * np.random.rand(len(theta_m[:, 0])) - 1)\n",
    "\n",
    "    theta = theta_m + noise[:, None]\n",
    "    return tspan, theta\n"
   ]
  },
  {
   "cell_type": "code",
   "execution_count": 8,
   "metadata": {},
   "outputs": [
    {
     "name": "stdout",
     "output_type": "stream",
     "text": [
      "15.878236925764273\n",
      "12.083333333333334\n"
     ]
    },
    {
     "ename": "NameError",
     "evalue": "name 'I_xy_x_rot' is not defined",
     "output_type": "error",
     "traceback": [
      "\u001b[0;31m---------------------------------------------------------------------------\u001b[0m",
      "\u001b[0;31mNameError\u001b[0m                                 Traceback (most recent call last)",
      "\u001b[1;32m/home/coder/workspace/Finnamore/Test_data_generator.ipynb Cell 3\u001b[0m line \u001b[0;36m3\n\u001b[1;32m     <a href='vscode-notebook-cell://fennec1.jaedynchilton.com/home/coder/workspace/Finnamore/Test_data_generator.ipynb#W2sdnNjb2RlLXJlbW90ZQ%3D%3D?line=35'>36</a>\u001b[0m I_values[I_y] \u001b[39m=\u001b[39m np\u001b[39m.\u001b[39mmean([mu_xy\u001b[39m-\u001b[39mr_xy\u001b[39m*\u001b[39mnp\u001b[39m.\u001b[39mcos(\u001b[39m2\u001b[39m\u001b[39m*\u001b[39mphi_xy),mu_yz\u001b[39m+\u001b[39mr_yz\u001b[39m*\u001b[39mnp\u001b[39m.\u001b[39mcos(\u001b[39m2\u001b[39m\u001b[39m*\u001b[39mphi_yz)])\n\u001b[1;32m     <a href='vscode-notebook-cell://fennec1.jaedynchilton.com/home/coder/workspace/Finnamore/Test_data_generator.ipynb#W2sdnNjb2RlLXJlbW90ZQ%3D%3D?line=36'>37</a>\u001b[0m I_values[I_z] \u001b[39m=\u001b[39m np\u001b[39m.\u001b[39mmean([mu_xz\u001b[39m-\u001b[39mr_xz\u001b[39m*\u001b[39mnp\u001b[39m.\u001b[39mcos(\u001b[39m2\u001b[39m\u001b[39m*\u001b[39mphi_xz),mu_yz\u001b[39m-\u001b[39mr_yz\u001b[39m*\u001b[39mnp\u001b[39m.\u001b[39mcos(\u001b[39m2\u001b[39m\u001b[39m*\u001b[39mphi_yz)])\n\u001b[0;32m---> <a href='vscode-notebook-cell://fennec1.jaedynchilton.com/home/coder/workspace/Finnamore/Test_data_generator.ipynb#W2sdnNjb2RlLXJlbW90ZQ%3D%3D?line=37'>38</a>\u001b[0m I_values[I_xy_x_rot] \u001b[39m=\u001b[39m mu_xy\u001b[39m+\u001b[39mnp\u001b[39m.\u001b[39mcos(\u001b[39m2\u001b[39m\u001b[39m*\u001b[39m(theta\u001b[39m+\u001b[39mphi_xy))\n\u001b[1;32m     <a href='vscode-notebook-cell://fennec1.jaedynchilton.com/home/coder/workspace/Finnamore/Test_data_generator.ipynb#W2sdnNjb2RlLXJlbW90ZQ%3D%3D?line=38'>39</a>\u001b[0m I_values[I_xy_y_rot] \u001b[39m=\u001b[39m mu_xy\u001b[39m-\u001b[39mnp\u001b[39m.\u001b[39mcos(\u001b[39m2\u001b[39m\u001b[39m*\u001b[39m(theta\u001b[39m+\u001b[39mphi_xy))\n\u001b[1;32m     <a href='vscode-notebook-cell://fennec1.jaedynchilton.com/home/coder/workspace/Finnamore/Test_data_generator.ipynb#W2sdnNjb2RlLXJlbW90ZQ%3D%3D?line=39'>40</a>\u001b[0m I_values[I_xz_x_rot] \u001b[39m=\u001b[39m mu_xz\u001b[39m+\u001b[39mnp\u001b[39m.\u001b[39mcos(\u001b[39m2\u001b[39m\u001b[39m*\u001b[39m(theta\u001b[39m+\u001b[39mphi_xz))\n",
      "\u001b[0;31mNameError\u001b[0m: name 'I_xy_x_rot' is not defined"
     ]
    }
   ],
   "source": [
    "I_names = [\n",
    "    'I_x', 'I_xy_x_rot', 'I_xz_x_rot', \n",
    "    'I_y', 'I_xy_y_rot', 'I_yz_y_rot', \n",
    "    'I_z', 'I_xz_z_rot', 'I_yz_z_rot'\n",
    "]\n",
    "\n",
    "I_values = {}\n",
    "\n",
    "x_dim = 3 #m\n",
    "y_dim = 4 #m\n",
    "z_dim = 5 #m\n",
    "mass = 5 #kg\n",
    "phi_xy = np.deg2rad(4) #rad\n",
    "phi_xz = np.deg2rad(6) #rad\n",
    "phi_yz = np.deg2rad(3) #rad\n",
    "\n",
    "theta = np.deg2rad(30) #rad\n",
    "\n",
    "#principle Axis Moments of Inertia\n",
    "I_x = (1/12)*mass*(y_dim**2 + z_dim**2)\n",
    "I_y = (1/12)*mass*(x_dim**2 + z_dim**2)\n",
    "I_z = (1/12)*mass*(x_dim**2 + y_dim**2) \n",
    "\n",
    "#derived units\n",
    "mu_xy = np.mean([I_x,I_y])\n",
    "r_xy = (I_x-I_y)/2\n",
    "mu_xz = np.mean([I_x,I_z])\n",
    "r_xz = (I_x-I_z)/2\n",
    "mu_yz = np.mean([I_y,I_z])\n",
    "r_yz = (I_y-I_z)/2\n",
    "\n",
    "#measured values\n",
    "I_values[I_x] = np.mean([mu_xy+r_xy*np.cos(2*phi_xy),mu_xz+r_xz*np.cos(2*phi_xz)])\n",
    "print(mu_xy+r_xy*np.cos(2*phi_xy))\n",
    "print(mu_xz+r_xz*np.cos(2*phi_xz))\n",
    "I_values[I_y] = np.mean([mu_xy-r_xy*np.cos(2*phi_xy),mu_yz+r_yz*np.cos(2*phi_yz)])\n",
    "I_values[I_z] = np.mean([mu_xz-r_xz*np.cos(2*phi_xz),mu_yz-r_yz*np.cos(2*phi_yz)])\n",
    "I_values[I_xy_x_rot] = mu_xy+np.cos(2*(theta+phi_xy))\n",
    "I_values[I_xy_y_rot] = mu_xy-np.cos(2*(theta+phi_xy))\n",
    "I_values[I_xz_x_rot] = mu_xz+np.cos(2*(theta+phi_xz))\n",
    "I_values[I_xz_z_rot] = mu_xz-np.cos(2*(theta+phi_xz))\n",
    "I_values[I_yz_y_rot] = mu_yz+np.cos(2*(theta+phi_yz))\n",
    "I_values[I_yz_z_rot] = mu_yz-np.cos(2*(theta+phi_yz))\n",
    "\n",
    "#printing tensors\n",
    "I_principle = [[I_x,0,0],[0,I_y,0],[0,0,I_z]]\n",
    "I_actual = [[],[],[]]"
   ]
  }
 ],
 "metadata": {
  "kernelspec": {
   "display_name": "Python 3",
   "language": "python",
   "name": "python3"
  },
  "language_info": {
   "codemirror_mode": {
    "name": "ipython",
    "version": 3
   },
   "file_extension": ".py",
   "mimetype": "text/x-python",
   "name": "python",
   "nbconvert_exporter": "python",
   "pygments_lexer": "ipython3",
   "version": "3.11.0"
  }
 },
 "nbformat": 4,
 "nbformat_minor": 2
}
