{
 "cells": [
  {
   "cell_type": "markdown",
   "metadata": {},
   "source": [
    "## Import Required Libraries"
   ]
  },
  {
   "cell_type": "code",
   "execution_count": 14,
   "metadata": {},
   "outputs": [],
   "source": [
    "import numpy as np\n",
    "from scipy.integrate import odeint\n",
    "from scipy.signal import butter, filtfilt, find_peaks\n",
    "from scipy.stats import gaussian_kde,ecdf\n",
    "import matplotlib.pyplot as plt\n",
    "from scipy.interpolate import CubicSpline\n",
    "import time"
   ]
  },
  {
   "cell_type": "code",
   "execution_count": 15,
   "metadata": {},
   "outputs": [],
   "source": [
    "def print_statistics(data, name):\n",
    "    mean = np.mean(data)\n",
    "    median = np.median(data)\n",
    "    std_dev = np.std(data)\n",
    "    minimum = np.min(data)\n",
    "    maximum = np.max(data)\n",
    "    quartiles = np.percentile(data, [25, 50, 75])\n",
    "\n",
    "    print(f\"Statistics for {name}:\")\n",
    "    print(f\"Mean: {mean:.4f}\")\n",
    "    print(f\"Median: {median:.4f}\")\n",
    "    print(f\"Standard Deviation: {std_dev:.4f}\")\n",
    "    print(f\"Minimum: {minimum:.4f}\")\n",
    "    print(f\"Maximum: {maximum:.4f}\")\n",
    "    print(f\"25th percentile: {quartiles[0]:.4f}\")\n",
    "    print(f\"50th percentile: {quartiles[1]:.4f}\")\n",
    "    print(f\"75th percentile: {quartiles[2]:.4f}\")\n",
    "    print(\"\\n\")"
   ]
  },
  {
   "cell_type": "markdown",
   "metadata": {},
   "source": [
    "## combined_model function"
   ]
  },
  {
   "cell_type": "code",
   "execution_count": 16,
   "metadata": {},
   "outputs": [],
   "source": [
    "def combined_model(I_net, M_net, c_net, z_net, tspan, init_conds):\n",
    "    I_uncertainty = 0\n",
    "    M_uncertainty = 0\n",
    "    l_uncertainty = 0\n",
    "    g_uncertainty = 0.0\n",
    "    viscous_uncertainty = 0\n",
    "    friction_uncertainty = 0\n",
    "    noise_const = np.deg2rad(0.04, dtype=np.float128) #note that if you turn this to zero things appear to shit themselves\n",
    "    Init_conds_uncertainty = [0, 0]\n",
    "\n",
    "    I = np.float128(I_net) + ((2 * np.random.rand() - 1) * I_uncertainty)\n",
    "    M = np.float128(M_net) + ((2 * np.random.rand() - 1) * M_uncertainty)\n",
    "    l = 1 + ((2 * np.random.rand() - 1) * l_uncertainty)\n",
    "    r = (.75 / 2) + ((2 * np.random.rand() - 1) * l_uncertainty)\n",
    "    g = 9.7949 + ((2 * np.random.rand() - 1) * g_uncertainty)\n",
    "    c = c_net + ((2 * np.random.rand() - 1) * viscous_uncertainty)\n",
    "    z = z_net + ((2 * np.random.rand() - 1) * friction_uncertainty)\n",
    "    ics = init_conds + ((2 * np.random.rand(2) - 1) * Init_conds_uncertainty)\n",
    "\n",
    "    paramsTrue = [I, M, g, r, l, c, z]\n",
    "\n",
    "    def combined_system(T, t):\n",
    "        I, M, g, r, l, c, z = paramsTrue\n",
    "        tdot1 = T[1]\n",
    "        tdot2 = ((-z * np.sign(T[1])) - (c * T[1]) - ((M * g * r ** 2 / l) * T[0])) / I\n",
    "        return [tdot1, tdot2]\n",
    "\n",
    "    theta_m = odeint(combined_system, ics, tspan)\n",
    "    noise = noise_const * (2 * np.random.rand(len(theta_m[:, 0])) - 1)\n",
    "\n",
    "    theta = theta_m + noise[:, None]\n",
    "    return tspan, theta\n"
   ]
  },
  {
   "cell_type": "markdown",
   "metadata": {},
   "source": [
    "## viscous_parameters_solver function"
   ]
  },
  {
   "cell_type": "code",
   "execution_count": 31,
   "metadata": {},
   "outputs": [],
   "source": [
    "def viscous_parameters_solver(t, theta):\n",
    "    l = 1.0\n",
    "    r = .75 / 2\n",
    "    g = 9.7949\n",
    "    mnet = 3\n",
    "    noise_param = 0.04\n",
    "    # Filter the data\n",
    "    b, a = butter(4, 0.05, 'low')\n",
    "    filtered_theta = filtfilt(b, a, theta)\n",
    "    peak_filtering_param = 3 #remember to adjust as to remove outliers associated with signal noise\n",
    "\n",
    "    # Use find_peaks with adjusted parameters to identify peaks\n",
    "    peaks, _ = find_peaks(filtered_theta, prominence=np.deg2rad(noise_param*peak_filtering_param))  # adjust prominence if needed\n",
    "\n",
    "    # Check if peaks are found\n",
    "    if len(peaks) == 0:\n",
    "        print(\"No peaks were found.\")\n",
    "        return [0, 0, 0, 0]\n",
    "\n",
    "    # Calculate the periods between peaks\n",
    "    periods = np.diff(t[peaks])\n",
    "    # plt.figure()\n",
    "    # plt.plot(t,theta,'kx',ms=1)\n",
    "    # plt.plot(t,filtered_theta,'r-')\n",
    "    # plt.xlim((0,15))\n",
    "    # plt.show()\n",
    "    # plt.figure()\n",
    "    # plt.plot(periods)\n",
    "    # plt.show()\n",
    "    # Calculate median filtered period\n",
    "    T_d = np.median(periods)\n",
    "    # print(f\"T_d = {T_d}\", end='\\n')\n",
    "    omega_d = (2 * np.pi) / T_d\n",
    "    # print(f\"Calculated wd = {omega_d}\", end='\\n')\n",
    "\n",
    "    # Calculate the damping ratio\n",
    "    amplitude_ratios = filtered_theta[peaks][1:] / filtered_theta[peaks][:-1]\n",
    "    damping_ratios = -1*np.log(amplitude_ratios)\n",
    "    # print(f\"Calculated dr = {np.median(damping_ratios)}\",end='\\n')\n",
    "    zeta = np.median(damping_ratios) / ( np.sqrt( (4 * np.pi ** 2) + (np.median(damping_ratios) ** 2) ) )\n",
    "    # print(f\"Calculated zeta = {zeta}\",end='\\n')\n",
    "\n",
    "    # Calculate natural frequency and inertia\n",
    "    omega_n = omega_d / np.sqrt(1 - zeta ** 2)\n",
    "    Inet_pure = (mnet * g * r ** 2) / (l * omega_n ** 2)\n",
    "    c_pure = zeta * 2 * np.sqrt(Inet_pure * ((mnet * g * r ** 2) / l))\n",
    "\n",
    "    return [Inet_pure, (mnet * g * r ** 2) / l, c_pure, 0,len(damping_ratios)]\n"
   ]
  },
  {
   "cell_type": "markdown",
   "metadata": {},
   "source": [
    "## viscousModel function"
   ]
  },
  {
   "cell_type": "code",
   "execution_count": 18,
   "metadata": {},
   "outputs": [],
   "source": [
    "def viscous_model(I_net, M_net, c_net, z_net, tspan, init_conds):\n",
    "    I = I_net\n",
    "    m = M_net\n",
    "    c = c_net\n",
    "    x0 = init_conds[0]\n",
    "    v0 = init_conds[1]\n",
    "    r = .75/2\n",
    "    l = 1.0\n",
    "    g = 9.7949\n",
    "    z = z_net #dummy variable so that viscousModel and combinedModel can have the same function call\n",
    "\n",
    "    wn = np.sqrt((m * g * r ** 2.0 / l) / I)\n",
    "    zeta = c / (2*np.sqrt((m * g * r ** 2.0 / l) * I))\n",
    "    wd = wn * np.sqrt(1.0 - zeta ** 2.0)\n",
    "    A = np.sqrt(((v0 + wn * zeta * x0) ** 2.0 + (x0 * wd) ** 2) / wd ** 2.0)\n",
    "    phi = np.arctan((x0 * wd) / (v0 + wn * zeta * x0))\n",
    "    pos = A * np.multiply(np.exp(-zeta * wn * tspan),np.sin(wd * tspan + phi))\n",
    "    vels = np.zeros(len(tspan))\n",
    "    s = (len(tspan),2)\n",
    "    theta_m = np.zeros(s)\n",
    "    theta_m[:,0] = pos\n",
    "    theta_m[:,1] = vels\n",
    "    noise = np.deg2rad(0.04) * (2 * np.random.rand(len(theta_m[:, 0])) - 1)\n",
    "    theta = theta_m + noise[:, None]\n",
    "    return tspan,theta"
   ]
  },
  {
   "cell_type": "markdown",
   "metadata": {},
   "source": [
    "## combinedModel Usage"
   ]
  },
  {
   "cell_type": "code",
   "execution_count": 19,
   "metadata": {},
   "outputs": [],
   "source": [
    "\n",
    "result_I = np.zeros(1000)\n",
    "percent_error = np.zeros(1000)\n",
    "\n",
    "I_xx_xy_init = np.float128(0.02089)\n",
    "I_disk = np.float128(0.5) * 2 * ((np.float128(0.75) / 2) ** 2)\n",
    "\n",
    "# for i in range(1000):\n",
    "#     t1, theta1 = combined_model(I_xx_xy_init + I_disk, 3, 0.01, 0, np.linspace(0, 10, 10000), [np.deg2rad(5), 0])\n",
    "#     params_test = viscous_parameters_solver(t1, theta1[:, 0])\n",
    "#     result_I[i] = params_test[0] - I_disk\n",
    "#     percent_error[i] = ((result_I[i] - I_xx_xy_init) / I_xx_xy_init) * 100\n",
    "#     # print(i + 1)\n"
   ]
  },
  {
   "cell_type": "markdown",
   "metadata": {},
   "source": [
    "## viscousResponse usage"
   ]
  },
  {
   "cell_type": "code",
   "execution_count": 20,
   "metadata": {},
   "outputs": [],
   "source": [
    "# for i in range(1000):\n",
    "#     t1,theta1 = viscous_model(I_xx_xy_init + I_disk, 3.0, 0.01, 0, np.linspace(0, 10, 10000), [np.deg2rad(5), 0])\n",
    "#     params_test = viscous_parameters_solver(t1, theta1[:,0])\n",
    "#     result_I[i] = params_test[0] - I_disk\n",
    "#     percent_error[i] = ((result_I[i] - I_xx_xy_init) / I_xx_xy_init) * 100\n",
    "#     # print(i + 1)"
   ]
  },
  {
   "cell_type": "markdown",
   "metadata": {},
   "source": [
    "## Creating KDE Plots"
   ]
  },
  {
   "cell_type": "code",
   "execution_count": 21,
   "metadata": {},
   "outputs": [],
   "source": [
    "import matplotlib.pyplot as plt\n",
    "from scipy.stats import gaussian_kde\n",
    "\n",
    "# # KDE plot for result_I\n",
    "# kde_result_I = gaussian_kde(result_I)\n",
    "# xi = np.linspace(0.01, 0.03, 1000)\n",
    "# plt.figure()\n",
    "# plt.plot(xi, kde_result_I(xi), color='blue')\n",
    "# plt.xlabel('Measured Moment of Inertia')\n",
    "# plt.ylabel('Density Estimate')\n",
    "# plt.title('KDE Estimate of Accuracy of Simulated Inertia Tests')\n",
    "# plt.xlim([0.01, 0.03])\n",
    "# plt.axvline(x=0.02089, color='r', label='Actual Value')\n",
    "# plt.axvline(x=np.median(result_I), color='k', label='Median Calculated Value')\n",
    "# plt.legend()\n",
    "# plt.show()\n",
    "\n",
    "# # Print statistics for result_I\n",
    "# print_statistics(result_I, \"Result I\")\n",
    "\n",
    "# # KDE plot for percent_error\n",
    "# kde_percent_error = gaussian_kde(percent_error)\n",
    "# xi = np.linspace(min(percent_error), max(percent_error), 1000)\n",
    "# plt.figure()\n",
    "# plt.plot(xi, kde_percent_error(xi), color='purple')\n",
    "# plt.xlabel('% Error')\n",
    "# plt.ylabel('Density Estimate')\n",
    "# plt.title('KDE Estimate of Accuracy of Simulated Inertia Tests')\n",
    "# plt.axvline(x=np.median(percent_error), color='k', label='Median Calculated Value')\n",
    "# plt.axvline(x=0, color='r', label='Actual Value')\n",
    "# plt.legend()\n",
    "# plt.show()\n",
    "\n",
    "# # Print statistics for percent_error\n",
    "# print_statistics(percent_error, \"Percent Error\")"
   ]
  },
  {
   "cell_type": "markdown",
   "metadata": {},
   "source": [
    "# Testing Solver Accuracies"
   ]
  },
  {
   "cell_type": "code",
   "execution_count": 22,
   "metadata": {
    "tags": []
   },
   "outputs": [],
   "source": [
    "\n",
    "# # I_xx = .020833\n",
    "# # I_yy = .028333\n",
    "# # I_zz = .003416\n",
    "\n",
    "# I_xx_xy_init = 0.02089\n",
    "# # I_yy_xy_init = 0.028276\n",
    "# # I_xx_xz_init = 0.020858\n",
    "# # I_zz_xz_init = 0.03413\n",
    "# # I_yy_yz_init = 0.028349\n",
    "# # I_zz_yz_init = 0.03414\n",
    "\n",
    "# # I_xx_xy_p = 0.0233\n",
    "# # I_yy_xy_p = 0.025866\n",
    "# # I_xx_xz_p = 0.02468\n",
    "# # I_zz_xz_p = 0.030313\n",
    "# # I_yy_yz_p = 0.030061\n",
    "# # I_zz_yz_p = 0.03242\n",
    "\n",
    "# I_disk = 0.5 * 2 * ((.75 / 2) ** 2)\n",
    "\n",
    "# trials_per_test = np.array([1,2,3,4,5,6,7,8,9,10,12,14,16,18,20,25,30,35,40]) \n",
    "# num_test_points = len(trials_per_test)\n",
    "# num_tests_per_point = 60\n",
    "# low = np.zeros(num_test_points)\n",
    "# high = np.zeros(num_test_points)\n",
    "# totalTrials = sum(trials_per_test*num_tests_per_point)\n",
    "# counter = 0\n",
    "\n",
    "# # Start timing\n",
    "# start_time = time.time()\n",
    "\n",
    "# for i in range(num_test_points):\n",
    "#     avg_per_test = np.zeros(num_tests_per_point)\n",
    "#     for j in range(num_tests_per_point):\n",
    "#         percent_error = np.zeros(trials_per_test[i])\n",
    "#         for x in range(trials_per_test[i]):\n",
    "#             t1, theta1 = viscous_model(np.float128(I_xx_xy_init) + I_disk, np.float128(3), np.float128(0.1), np.float128(0), np.linspace(np.float128(0), np.float128(10), 10000, dtype=np.float128), [np.deg2rad(np.float128(5), dtype=np.float128), np.float128(0)])\n",
    "#             params_test = viscous_parameters_solver(t1, theta1[:, 0])\n",
    "#             result_I = params_test[0] - I_disk\n",
    "#             percent_error[x] = ((result_I - I_xx_xy_init) / I_xx_xy_init) * 100\n",
    "#             print(f\"\\rComputation {(counter/totalTrials)*100:.2f}% Completed\", end='')\n",
    "#             counter = counter+1\n",
    "#         avg_per_test[j] = np.mean(percent_error)\n",
    "#     xi = np.linspace(np.min(avg_per_test), np.max(avg_per_test), 1000)\n",
    "#     f_init = ecdf(avg_per_test).cdf.probabilities\n",
    "#     f_spline = CubicSpline(np.linspace(np.min(avg_per_test), np.max(avg_per_test), num_tests_per_point),f_init)\n",
    "#     f = f_spline(xi)\n",
    "\n",
    "#     foundlow = False\n",
    "#     for n in range(len(f)):\n",
    "#         if f[n] > 0.025 and not foundlow:\n",
    "#             low[i] = xi[n]\n",
    "#             foundlow = True\n",
    "#         if f[n] > 0.975 and foundlow:\n",
    "#             high[i] = xi[n]\n",
    "#             break\n",
    "\n",
    "# plt.figure()\n",
    "# plt.plot(trials_per_test, low, color='blue',label='2.5% Lower Bound')\n",
    "# plt.plot(trials_per_test, high, color='green',label='5% Upper Bound')\n",
    "# plt.title('95% CI of %Error of Inertia Measurement')\n",
    "# plt.xlabel('Number of Trials')\n",
    "# plt.ylabel('Percent Error')\n",
    "# plt.axhline(y=0,color='black',linestyle='--')\n",
    "# plt.axhline(y=.5, color='red',linestyle='--',lw='.2')\n",
    "# plt.axhline(y=-.5,color='red',linestyle='--',lw='.2')\n",
    "# plt.axhline(y=1, color='red',linestyle='--',lw='.2')\n",
    "# plt.axhline(y=-1,color='red',linestyle='--',lw='.2')\n",
    "# plt.legend()\n",
    "# plt.show()\n",
    "\n",
    "# # End timing\n",
    "# end_time = time.time()\n",
    "\n",
    "# # Calculate and print the total time\n",
    "# total_time = end_time - start_time\n",
    "# print(f\"Total calculation time: {total_time} seconds\")"
   ]
  },
  {
   "cell_type": "code",
   "execution_count": 23,
   "metadata": {},
   "outputs": [
    {
     "name": "stderr",
     "output_type": "stream",
     "text": [
      "/tmp/ipykernel_13431/1335514325.py:16: RuntimeWarning: divide by zero encountered in scalar divide\n",
      "  phi = np.arctan((x0 * wd) / (v0 + wn * zeta * x0))\n"
     ]
    },
    {
     "ename": "ValueError",
     "evalue": "too many values to unpack (expected 4)",
     "output_type": "error",
     "traceback": [
      "\u001b[0;31m---------------------------------------------------------------------------\u001b[0m",
      "\u001b[0;31mValueError\u001b[0m                                Traceback (most recent call last)",
      "\u001b[1;32m/home/coder/workspace/Finnamore/testdata.ipynb Cell 18\u001b[0m line \u001b[0;36m1\n\u001b[1;32m      <a href='vscode-notebook-cell://fennec1.jaedynchilton.com/home/coder/workspace/Finnamore/testdata.ipynb#X23sdnNjb2RlLXJlbW90ZQ%3D%3D?line=7'>8</a>\u001b[0m t,theta \u001b[39m=\u001b[39m viscous_model(\u001b[39m0.02089\u001b[39m\u001b[39m+\u001b[39m(\u001b[39m0.5\u001b[39m \u001b[39m*\u001b[39m \u001b[39m2\u001b[39m \u001b[39m*\u001b[39m ((\u001b[39m.75\u001b[39m \u001b[39m/\u001b[39m \u001b[39m2\u001b[39m) \u001b[39m*\u001b[39m\u001b[39m*\u001b[39m \u001b[39m2\u001b[39m)), \u001b[39m3\u001b[39m, dampings[i], \u001b[39m0.0\u001b[39m, np\u001b[39m.\u001b[39mlinspace(\u001b[39m0\u001b[39m, \u001b[39m15\u001b[39m, \u001b[39m10000\u001b[39m), [np\u001b[39m.\u001b[39mdeg2rad(\u001b[39m5\u001b[39m), \u001b[39m0\u001b[39m])\n\u001b[1;32m      <a href='vscode-notebook-cell://fennec1.jaedynchilton.com/home/coder/workspace/Finnamore/testdata.ipynb#X23sdnNjb2RlLXJlbW90ZQ%3D%3D?line=8'>9</a>\u001b[0m zeta_act \u001b[39m=\u001b[39m (dampings[i])\u001b[39m/\u001b[39m(\u001b[39m2\u001b[39m\u001b[39m*\u001b[39mnp\u001b[39m.\u001b[39msqrt(\u001b[39m4.13332\u001b[39m\u001b[39m*\u001b[39m(\u001b[39m0.02089\u001b[39m\u001b[39m+\u001b[39m(\u001b[39m0.5\u001b[39m \u001b[39m*\u001b[39m \u001b[39m2\u001b[39m \u001b[39m*\u001b[39m ((\u001b[39m.75\u001b[39m \u001b[39m/\u001b[39m \u001b[39m2\u001b[39m) \u001b[39m*\u001b[39m\u001b[39m*\u001b[39m \u001b[39m2\u001b[39m)))))\n\u001b[0;32m---> <a href='vscode-notebook-cell://fennec1.jaedynchilton.com/home/coder/workspace/Finnamore/testdata.ipynb#X23sdnNjb2RlLXJlbW90ZQ%3D%3D?line=9'>10</a>\u001b[0m I,k,c,_\u001b[39m=\u001b[39mviscous_parameters_solver(t,theta[:,\u001b[39m0\u001b[39m])\n\u001b[1;32m     <a href='vscode-notebook-cell://fennec1.jaedynchilton.com/home/coder/workspace/Finnamore/testdata.ipynb#X23sdnNjb2RlLXJlbW90ZQ%3D%3D?line=10'>11</a>\u001b[0m zeta_pred \u001b[39m=\u001b[39m c\u001b[39m/\u001b[39m(\u001b[39m2\u001b[39m\u001b[39m*\u001b[39mnp\u001b[39m.\u001b[39msqrt(k\u001b[39m*\u001b[39mI))\n\u001b[1;32m     <a href='vscode-notebook-cell://fennec1.jaedynchilton.com/home/coder/workspace/Finnamore/testdata.ipynb#X23sdnNjb2RlLXJlbW90ZQ%3D%3D?line=11'>12</a>\u001b[0m error[i]\u001b[39m=\u001b[39m(zeta_act\u001b[39m-\u001b[39mzeta_pred)\u001b[39m/\u001b[39mzeta_pred\n",
      "\u001b[0;31mValueError\u001b[0m: too many values to unpack (expected 4)"
     ]
    }
   ],
   "source": [
    "visc_damp = 0.1\n",
    "t1, theta1 = viscous_model(0.02089+(0.5 * 2 * ((.75 / 2) ** 2)), 3, visc_damp, 0.0, np.linspace(0, 15, 10000), [np.deg2rad(5), 0])\n",
    "t2,theta2 = combined_model(0.02089+(0.5 * 2 * ((.75 / 2) ** 2)), 3, visc_damp, 0.0, np.linspace(0, 15, 10000), [np.deg2rad(5), 0])\n",
    "\n",
    "error = np.zeros(1000)\n",
    "dampings = np.linspace(0,0.3,num=1000)\n",
    "for i in range(1000):\n",
    "    t,theta = viscous_model(0.02089+(0.5 * 2 * ((.75 / 2) ** 2)), 3, dampings[i], 0.0, np.linspace(0, 15, 10000), [np.deg2rad(5), 0])\n",
    "    zeta_act = (dampings[i])/(2*np.sqrt(4.13332*(0.02089+(0.5 * 2 * ((.75 / 2) ** 2)))))\n",
    "    I,k,c,_=viscous_parameters_solver(t,theta[:,0])\n",
    "    zeta_pred = c/(2*np.sqrt(k*I))\n",
    "    error[i]=(zeta_act-zeta_pred)/zeta_pred\n",
    "\n",
    "plt.figure()\n",
    "# plt.plot(error)\n",
    "plt.plot(dampings, error)\n",
    "plt.show()\n",
    "plt.figure(figsize=(10,10))\n",
    "plt.plot(t1,theta1[:,0],marker='o',ms=1,label='Viscous Response')\n",
    "plt.plot(t2,theta2[:,0],marker='x',ms=1,label='Combined Response')\n",
    "plt.legend()\n",
    "plt.xlabel('Time [s]')\n",
    "plt.ylabel('Theta [radians]')"
   ]
  },
  {
   "cell_type": "markdown",
   "metadata": {},
   "source": [
    "## Solver Checking"
   ]
  },
  {
   "cell_type": "code",
   "execution_count": 32,
   "metadata": {},
   "outputs": [
    {
     "data": {
      "image/png": "[encoded data removed]",
      "text/plain": [
       "<Figure size 640x480 with 1 Axes>"
      ]
     },
     "metadata": {},
     "output_type": "display_data"
    },
    {
     "name": "stdout",
     "output_type": "stream",
     "text": [
      "No peaks were found.\n"
     ]
    },
    {
     "ename": "ValueError",
     "evalue": "not enough values to unpack (expected 5, got 4)",
     "output_type": "error",
     "traceback": [
      "\u001b[0;31m---------------------------------------------------------------------------\u001b[0m",
      "\u001b[0;31mValueError\u001b[0m                                Traceback (most recent call last)",
      "\u001b[1;32m/home/coder/workspace/Finnamore/testdata.ipynb Cell 20\u001b[0m line \u001b[0;36m3\n\u001b[1;32m     <a href='vscode-notebook-cell://fennec1.jaedynchilton.com/home/coder/workspace/Finnamore/testdata.ipynb#X25sdnNjb2RlLXJlbW90ZQ%3D%3D?line=27'>28</a>\u001b[0m t,theta \u001b[39m=\u001b[39m combined_model(I_true, M_true, dampings[i], \u001b[39m0.0\u001b[39m, np\u001b[39m.\u001b[39mlinspace(\u001b[39m0\u001b[39m, \u001b[39m60\u001b[39m, \u001b[39m20000\u001b[39m), [np\u001b[39m.\u001b[39mdeg2rad(\u001b[39m5\u001b[39m), \u001b[39m0\u001b[39m])\n\u001b[1;32m     <a href='vscode-notebook-cell://fennec1.jaedynchilton.com/home/coder/workspace/Finnamore/testdata.ipynb#X25sdnNjb2RlLXJlbW90ZQ%3D%3D?line=28'>29</a>\u001b[0m zeta_true[i] \u001b[39m=\u001b[39m dampings[i]\u001b[39m/\u001b[39m(\u001b[39m2\u001b[39m\u001b[39m*\u001b[39mnp\u001b[39m.\u001b[39msqrt(k_true\u001b[39m*\u001b[39mI_true))\n\u001b[0;32m---> <a href='vscode-notebook-cell://fennec1.jaedynchilton.com/home/coder/workspace/Finnamore/testdata.ipynb#X25sdnNjb2RlLXJlbW90ZQ%3D%3D?line=29'>30</a>\u001b[0m I,k,c,_,numPeaks[i] \u001b[39m=\u001b[39mviscous_parameters_solver(t,theta[:,\u001b[39m0\u001b[39m])\n\u001b[1;32m     <a href='vscode-notebook-cell://fennec1.jaedynchilton.com/home/coder/workspace/Finnamore/testdata.ipynb#X25sdnNjb2RlLXJlbW90ZQ%3D%3D?line=30'>31</a>\u001b[0m zeta_pred[i] \u001b[39m=\u001b[39m c\u001b[39m/\u001b[39m(\u001b[39m2\u001b[39m\u001b[39m*\u001b[39mnp\u001b[39m.\u001b[39msqrt(k\u001b[39m*\u001b[39mI))\n\u001b[1;32m     <a href='vscode-notebook-cell://fennec1.jaedynchilton.com/home/coder/workspace/Finnamore/testdata.ipynb#X25sdnNjb2RlLXJlbW90ZQ%3D%3D?line=31'>32</a>\u001b[0m error[i]\u001b[39m=\u001b[39m((zeta_true[i]\u001b[39m-\u001b[39mzeta_pred[i])\u001b[39m/\u001b[39mzeta_pred[i])\u001b[39m*\u001b[39m\u001b[39m100\u001b[39m\n",
      "\u001b[0;31mValueError\u001b[0m: not enough values to unpack (expected 5, got 4)"
     ]
    }
   ],
   "source": [
    "I_true = 1\n",
    "M_true = 3\n",
    "c_true = 0.01\n",
    "z_true = 0\n",
    "t,theta = viscous_model(I_true,M_true,c_true,z_true,np.linspace(0,15,10000),[np.deg2rad(5),0])\n",
    "paramsMeasured = viscous_parameters_solver(t,theta[:,0])\n",
    "k_true = M_true*9.7949*(.75/2)**2\n",
    "wn_true = np.sqrt(k_true/I_true)\n",
    "\n",
    "\n",
    "n_trials = 10000\n",
    "error = np.zeros(n_trials)\n",
    "dampings = np.linspace(.01,2.5,num=n_trials)\n",
    "zeta_pred = np.zeros(n_trials)\n",
    "zeta_true = np.zeros(n_trials)\n",
    "wd_pred = np.zeros(n_trials)\n",
    "wd_true = np.zeros(n_trials)\n",
    "wn_pred = np.zeros(n_trials)\n",
    "wn_true = np.zeros(n_trials)\n",
    "numPeaks = np.zeros(n_trials)\n",
    "\n",
    "t,theta = viscous_model(I_true, M_true, 0.5, 0.0, np.linspace(0, 60, 20000), [np.deg2rad(5), 0])\n",
    "plt.figure()\n",
    "plt.plot(t,theta[:,0])\n",
    "plt.show()\n",
    "\n",
    "for i in range(n_trials):\n",
    "    t,theta = combined_model(I_true, M_true, dampings[i], 0.0, np.linspace(0, 60, 20000), [np.deg2rad(5), 0])\n",
    "    zeta_true[i] = dampings[i]/(2*np.sqrt(k_true*I_true))\n",
    "    I,k,c,_,numPeaks[i] =viscous_parameters_solver(t,theta[:,0])\n",
    "    zeta_pred[i] = c/(2*np.sqrt(k*I))\n",
    "    error[i]=((zeta_true[i]-zeta_pred[i])/zeta_pred[i])*100\n",
    "\n",
    "plt.figure(figsize=(10,10))\n",
    "plt.scatter(zeta_true,error,marker='x',s=5,c=np.abs(numPeaks))\n",
    "plt.axhline(y=0,c='k',linestyle='-')\n",
    "plt.title('ζ Value vs Percent Error in ζ Estimation')\n",
    "plt.xlabel('ζ')\n",
    "plt.ylabel('%Error in ζ Calculation')\n",
    "plt.ylim((-10,10))\n",
    "plt.show()\n",
    "\n",
    "kde_result_I = gaussian_kde(error)\n",
    "xi = np.linspace(np.min(error), np.max(error), 1000)\n",
    "plt.figure()\n",
    "plt.plot(xi, kde_result_I(xi), color='black',linestyle='-',linewidth=2)\n",
    "plt.xlim((-10,10))\n",
    "plt.axvline(x=0,c='k',linestyle='--',linewidth=0.5)\n",
    "plt.axvline(x=np.mean(error),c='k',linestyle='-',linewidth=2)\n",
    "plt.title('KDE Estimate of %Error of Zeta Estimation')\n",
    "plt.xlabel('%Error in Zeta Calculation')\n",
    "plt.ylabel('KDE Estimate')\n",
    "plt.show()\n",
    "\n",
    "\n",
    "\n",
    "# zeta_true = c_true/(2*np.sqrt(k_true*I_true))\n",
    "# print(f\"True zeta = {zeta_true}\", end='\\n')\n",
    "\n",
    "# print(f\"True wn = {wn_true}\", end='\\n')\n",
    "# wd_true = wn_true*np.sqrt(1-zeta_true**2)\n",
    "# print(f\"True wd = {wd_true}\", end='\\n')\n",
    "# dr_true = (2*np.pi*zeta_true)/(np.sqrt(1-zeta_true**2))\n",
    "# print(f\"True dr = {dr_true}\", end='\\n')\n",
    "\n",
    "\n"
   ]
  }
 ],
 "metadata": {
  "kernelspec": {
   "display_name": "Python 3",
   "language": "python",
   "name": "python3"
  },
  "language_info": {
   "codemirror_mode": {
    "name": "ipython",
    "version": 3
   },
   "file_extension": ".py",
   "mimetype": "text/x-python",
   "name": "python",
   "nbconvert_exporter": "python",
   "pygments_lexer": "ipython3",
   "version": "3.11.0"
  }
 },
 "nbformat": 4,
 "nbformat_minor": 2
}
