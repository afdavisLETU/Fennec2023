{
 "cells": [
  {
   "cell_type": "code",
   "execution_count": null,
   "metadata": {},
   "outputs": [],
   "source": [
    "import pandas as pd\n",
    "import os\n",
    "\n",
    "# Define the folder where your CSV files are located\n",
    "folder_path = '/home/coder/workspace/Finnamore/intertia_data'\n",
    "\n",
    "# Define the pattern or names of your CSV files\n",
    "file_names = [\n",
    "    'I_x.csv', 'I_xy_x_rot.csv', 'I_xz_x_rot.csv', \n",
    "    'I_y.csv', 'I_xy_y_rot.csv', 'I_yz_y_rot.csv', \n",
    "    'I_z.csv', 'I_xz_z_rot.csv', 'I_yz_z_rot.csv'\n",
    "]\n",
    "\n",
    "# Initialize a dictionary to hold your DataFrames\n",
    "dataframes = {}\n",
    "\n",
    "# Loop through each file name, read the CSV file, and store it in the dictionary\n",
    "for file_name in file_names:\n",
    "    file_path = os.path.join(folder_path, file_name)\n",
    "    # Key by the base name without '.csv'\n",
    "    key = file_name.replace('.csv', '')\n",
    "    dataframes[key] = pd.read_csv(file_path)\n",
    "\n",
    "# At this point, dataframes['I_x'] will give you the DataFrame for I_x.csv and so on.\n"
   ]
  }
 ],
 "metadata": {
  "language_info": {
   "name": "python"
  }
 },
 "nbformat": 4,
 "nbformat_minor": 2
}
